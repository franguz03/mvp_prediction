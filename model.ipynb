{
 "cells": [
  {
   "cell_type": "code",
   "execution_count": 2,
   "id": "8a818de0",
   "metadata": {},
   "outputs": [],
   "source": [
    "import pandas as pd\n",
    "import tensorflow as tf\n",
    "import sklearn\n",
    "import matplotlib\n",
    "import seaborn as sns\n",
    "import pandas as pd"
   ]
  },
  {
   "cell_type": "code",
   "execution_count": 3,
   "id": "b4a5a5b8",
   "metadata": {},
   "outputs": [],
   "source": [
    "stats=pd.read_csv('data/combined_stats.csv')"
   ]
  },
  {
   "cell_type": "code",
   "execution_count": 4,
   "id": "a926fc90",
   "metadata": {},
   "outputs": [
    {
     "data": {
      "text/plain": [
       "Index(['Player', 'Age', 'Abbreviation', 'Pos', 'G', 'GS', 'MP', 'FG', 'FGA',\n",
       "       'FG%', '3P', '3PA', '3P%', '2P', '2PA', '2P%', 'eFG%', 'FT', 'FTA',\n",
       "       'FT%', 'ORB', 'DRB', 'TRB', 'AST', 'STL', 'BLK', 'TOV', 'PF', 'PTS',\n",
       "       'Awards', 'Year', 'voting_first', 'voting_pts_won', 'voting_pts_max',\n",
       "       'voting_share', 'advanced_ws', 'advanced_ws_per_48', 'Team', 'W', 'L',\n",
       "       'W/L%', 'GB', 'PS/G', 'PA/G', 'SRS'],\n",
       "      dtype='object')"
      ]
     },
     "execution_count": 4,
     "metadata": {},
     "output_type": "execute_result"
    }
   ],
   "source": [
    "stats.columns"
   ]
  },
  {
   "cell_type": "code",
   "execution_count": 5,
   "id": "c160aae6",
   "metadata": {},
   "outputs": [
    {
     "data": {
      "text/plain": [
       "Player                    0\n",
       "Age                       0\n",
       "Abbreviation              0\n",
       "Pos                       0\n",
       "G                         0\n",
       "GS                        0\n",
       "MP                        0\n",
       "FG                        0\n",
       "FGA                       0\n",
       "FG%                      62\n",
       "3P                        0\n",
       "3PA                       0\n",
       "3P%                    2162\n",
       "2P                        0\n",
       "2PA                       0\n",
       "2P%                     106\n",
       "eFG%                     62\n",
       "FT                        0\n",
       "FTA                       0\n",
       "FT%                     551\n",
       "ORB                       0\n",
       "DRB                       0\n",
       "TRB                       0\n",
       "AST                       0\n",
       "STL                       0\n",
       "BLK                       0\n",
       "TOV                       0\n",
       "PF                        0\n",
       "PTS                       0\n",
       "Awards                13759\n",
       "Year                      0\n",
       "voting_first              0\n",
       "voting_pts_won            0\n",
       "voting_pts_max            0\n",
       "voting_share              0\n",
       "advanced_ws               0\n",
       "advanced_ws_per_48        0\n",
       "Team                      0\n",
       "W                         0\n",
       "L                         0\n",
       "W/L%                      0\n",
       "GB                        0\n",
       "PS/G                      0\n",
       "PA/G                      0\n",
       "SRS                       0\n",
       "dtype: int64"
      ]
     },
     "execution_count": 5,
     "metadata": {},
     "output_type": "execute_result"
    }
   ],
   "source": [
    "pd.isnull(stats).sum()"
   ]
  },
  {
   "cell_type": "markdown",
   "id": "09d0aa47",
   "metadata": {},
   "source": [
    "### resolving for players with no attempts"
   ]
  },
  {
   "cell_type": "code",
   "execution_count": 6,
   "id": "b90b836a",
   "metadata": {},
   "outputs": [
    {
     "data": {
      "text/plain": [
       "127      0.0\n",
       "156      0.0\n",
       "319      0.0\n",
       "382      0.0\n",
       "686      0.0\n",
       "        ... \n",
       "14714    0.0\n",
       "14736    0.0\n",
       "14819    0.0\n",
       "14841    0.0\n",
       "14845    0.0\n",
       "Name: FGA, Length: 62, dtype: float64"
      ]
     },
     "execution_count": 6,
     "metadata": {},
     "output_type": "execute_result"
    }
   ],
   "source": [
    "stats['3PA'][pd.isna(stats['3P%'])]\n",
    "stats['2PA'][pd.isna(stats['2P%'])]\n",
    "stats['FGA'][pd.isna(stats['FG%'])]\n"
   ]
  },
  {
   "cell_type": "code",
   "execution_count": 7,
   "id": "f2d223af",
   "metadata": {},
   "outputs": [],
   "source": [
    "stats=stats.fillna(0)"
   ]
  },
  {
   "cell_type": "code",
   "execution_count": 8,
   "id": "10060785",
   "metadata": {},
   "outputs": [],
   "source": [
    "pred_features=['Age','G', 'GS', 'MP', 'FG', 'FGA',\n",
    "       'FG%', '3P', '3PA', '3P%', '2P', '2PA', '2P%', 'eFG%', 'FT', 'FTA',\n",
    "       'FT%', 'ORB', 'DRB', 'TRB', 'AST', 'STL', 'BLK', 'TOV', 'PF', 'PTS',\n",
    "        'Year', 'W', 'L',\n",
    "       'W/L%', 'GB', 'PS/G', 'PA/G', 'SRS']"
   ]
  },
  {
   "cell_type": "markdown",
   "id": "a098794b",
   "metadata": {},
   "source": [
    "### defining train and test data"
   ]
  },
  {
   "cell_type": "code",
   "execution_count": 9,
   "id": "0964dfbb",
   "metadata": {},
   "outputs": [],
   "source": [
    "train=stats[stats['Year'] < 2023].copy()\n",
    "test=stats[stats['Year'] == 2023].copy()"
   ]
  },
  {
   "cell_type": "markdown",
   "id": "a98c3903",
   "metadata": {},
   "source": [
    "### base model with rigde"
   ]
  },
  {
   "cell_type": "code",
   "execution_count": 10,
   "id": "573c42c0",
   "metadata": {},
   "outputs": [],
   "source": [
    "from sklearn.pipeline import make_pipeline\n",
    "from sklearn.preprocessing import StandardScaler\n",
    "from sklearn.linear_model import Ridge\n",
    "\n",
    "ridge_model = make_pipeline(StandardScaler(), Ridge(alpha=1.0))\n",
    "ridge_model.fit(train[pred_features], train['voting_share'])\n",
    "predics=ridge_model.predict(test[pred_features])\n",
    "\n"
   ]
  },
  {
   "cell_type": "code",
   "execution_count": 11,
   "id": "3080eaef",
   "metadata": {},
   "outputs": [
    {
     "name": "stdout",
     "output_type": "stream",
     "text": [
      "539 539\n"
     ]
    }
   ],
   "source": [
    "print(len(test), len(predics))\n"
   ]
  },
  {
   "cell_type": "code",
   "execution_count": 12,
   "id": "261a40ae",
   "metadata": {},
   "outputs": [
    {
     "data": {
      "text/html": [
       "<div>\n",
       "<style scoped>\n",
       "    .dataframe tbody tr th:only-of-type {\n",
       "        vertical-align: middle;\n",
       "    }\n",
       "\n",
       "    .dataframe tbody tr th {\n",
       "        vertical-align: top;\n",
       "    }\n",
       "\n",
       "    .dataframe thead th {\n",
       "        text-align: right;\n",
       "    }\n",
       "</style>\n",
       "<table border=\"1\" class=\"dataframe\">\n",
       "  <thead>\n",
       "    <tr style=\"text-align: right;\">\n",
       "      <th></th>\n",
       "      <th>Player</th>\n",
       "      <th>voting_share</th>\n",
       "      <th>prediction</th>\n",
       "    </tr>\n",
       "  </thead>\n",
       "  <tbody>\n",
       "    <tr>\n",
       "      <th>7584</th>\n",
       "      <td>Joel Embiid</td>\n",
       "      <td>0.915</td>\n",
       "      <td>0.203551</td>\n",
       "    </tr>\n",
       "    <tr>\n",
       "      <th>11303</th>\n",
       "      <td>Nikola Jokić</td>\n",
       "      <td>0.674</td>\n",
       "      <td>0.175564</td>\n",
       "    </tr>\n",
       "    <tr>\n",
       "      <th>5527</th>\n",
       "      <td>Giannis Antetokounmpo</td>\n",
       "      <td>0.606</td>\n",
       "      <td>0.225594</td>\n",
       "    </tr>\n",
       "    <tr>\n",
       "      <th>7049</th>\n",
       "      <td>Jayson Tatum</td>\n",
       "      <td>0.280</td>\n",
       "      <td>0.138577</td>\n",
       "    </tr>\n",
       "    <tr>\n",
       "      <th>13298</th>\n",
       "      <td>Shai Gilgeous-Alexander</td>\n",
       "      <td>0.046</td>\n",
       "      <td>0.148613</td>\n",
       "    </tr>\n",
       "    <tr>\n",
       "      <th>...</th>\n",
       "      <td>...</td>\n",
       "      <td>...</td>\n",
       "      <td>...</td>\n",
       "    </tr>\n",
       "    <tr>\n",
       "      <th>5862</th>\n",
       "      <td>Harrison Barnes</td>\n",
       "      <td>0.000</td>\n",
       "      <td>0.009086</td>\n",
       "    </tr>\n",
       "    <tr>\n",
       "      <th>5839</th>\n",
       "      <td>Hamidou Diallo</td>\n",
       "      <td>0.000</td>\n",
       "      <td>0.006169</td>\n",
       "    </tr>\n",
       "    <tr>\n",
       "      <th>5696</th>\n",
       "      <td>Greg Brown III</td>\n",
       "      <td>0.000</td>\n",
       "      <td>-0.003847</td>\n",
       "    </tr>\n",
       "    <tr>\n",
       "      <th>5675</th>\n",
       "      <td>Grayson Allen</td>\n",
       "      <td>0.000</td>\n",
       "      <td>-0.008647</td>\n",
       "    </tr>\n",
       "    <tr>\n",
       "      <th>15557</th>\n",
       "      <td>Zion Williamson</td>\n",
       "      <td>0.000</td>\n",
       "      <td>0.124252</td>\n",
       "    </tr>\n",
       "  </tbody>\n",
       "</table>\n",
       "<p>539 rows × 3 columns</p>\n",
       "</div>"
      ],
      "text/plain": [
       "                        Player  voting_share  prediction\n",
       "7584               Joel Embiid         0.915    0.203551\n",
       "11303             Nikola Jokić         0.674    0.175564\n",
       "5527     Giannis Antetokounmpo         0.606    0.225594\n",
       "7049              Jayson Tatum         0.280    0.138577\n",
       "13298  Shai Gilgeous-Alexander         0.046    0.148613\n",
       "...                        ...           ...         ...\n",
       "5862           Harrison Barnes         0.000    0.009086\n",
       "5839            Hamidou Diallo         0.000    0.006169\n",
       "5696            Greg Brown III         0.000   -0.003847\n",
       "5675             Grayson Allen         0.000   -0.008647\n",
       "15557          Zion Williamson         0.000    0.124252\n",
       "\n",
       "[539 rows x 3 columns]"
      ]
     },
     "execution_count": 12,
     "metadata": {},
     "output_type": "execute_result"
    }
   ],
   "source": [
    "review = pd.concat([test[['Player', 'voting_share']], pd.Series(predics,name='prediction',index=test.index)], axis=1)\n",
    "review.sort_values(by='voting_share', ascending=False, inplace=True)\n",
    "review"
   ]
  },
  {
   "cell_type": "markdown",
   "id": "728bc5f3",
   "metadata": {},
   "source": [
    "### defining error metric"
   ]
  },
  {
   "cell_type": "code",
   "execution_count": 13,
   "id": "5e6a54d8",
   "metadata": {},
   "outputs": [
    {
     "data": {
      "text/plain": [
       "0.0026588123167627605"
      ]
     },
     "execution_count": 13,
     "metadata": {},
     "output_type": "execute_result"
    }
   ],
   "source": [
    "from sklearn.metrics import mean_squared_error\n",
    "mean_squared_error(test['voting_share'], predics)"
   ]
  },
  {
   "cell_type": "markdown",
   "id": "02257072",
   "metadata": {},
   "source": [
    "A traditional measure like the mean square error may not be appropriate even if it shows good results, since most players are not candidates. We want to focus on properly evaluating those most likely to win the MVP."
   ]
  },
  {
   "cell_type": "code",
   "execution_count": 14,
   "id": "3e39082a",
   "metadata": {},
   "outputs": [
    {
     "data": {
      "text/plain": [
       "voting_share\n",
       "0.000    526\n",
       "0.001      2\n",
       "0.915      1\n",
       "0.674      1\n",
       "0.606      1\n",
       "0.280      1\n",
       "0.046      1\n",
       "0.030      1\n",
       "0.027      1\n",
       "0.010      1\n",
       "0.005      1\n",
       "0.003      1\n",
       "0.002      1\n",
       "Name: count, dtype: int64"
      ]
     },
     "execution_count": 14,
     "metadata": {},
     "output_type": "execute_result"
    }
   ],
   "source": [
    "review['voting_share'].value_counts()"
   ]
  },
  {
   "cell_type": "code",
   "execution_count": null,
   "id": "e23ae1a4",
   "metadata": {},
   "outputs": [],
   "source": [
    "review = review.sort_values(by='voting_share', ascending=False)  \n",
    "review['rk'] = list(range(1, review.shape[0] + 1))\n",
    "\n",
    "review = review.sort_values(by='prediction', ascending=False)  \n",
    "review['Pred_rk'] = list(range(1, review.shape[0] + 1))\n"
   ]
  },
  {
   "cell_type": "code",
   "execution_count": 16,
   "id": "73f791a4",
   "metadata": {},
   "outputs": [
    {
     "data": {
      "text/html": [
       "<div>\n",
       "<style scoped>\n",
       "    .dataframe tbody tr th:only-of-type {\n",
       "        vertical-align: middle;\n",
       "    }\n",
       "\n",
       "    .dataframe tbody tr th {\n",
       "        vertical-align: top;\n",
       "    }\n",
       "\n",
       "    .dataframe thead th {\n",
       "        text-align: right;\n",
       "    }\n",
       "</style>\n",
       "<table border=\"1\" class=\"dataframe\">\n",
       "  <thead>\n",
       "    <tr style=\"text-align: right;\">\n",
       "      <th></th>\n",
       "      <th>Player</th>\n",
       "      <th>voting_share</th>\n",
       "      <th>prediction</th>\n",
       "      <th>rk</th>\n",
       "      <th>Pred_rk</th>\n",
       "    </tr>\n",
       "  </thead>\n",
       "  <tbody>\n",
       "    <tr>\n",
       "      <th>7584</th>\n",
       "      <td>Joel Embiid</td>\n",
       "      <td>0.915</td>\n",
       "      <td>0.203551</td>\n",
       "      <td>1</td>\n",
       "      <td>2</td>\n",
       "    </tr>\n",
       "    <tr>\n",
       "      <th>11303</th>\n",
       "      <td>Nikola Jokić</td>\n",
       "      <td>0.674</td>\n",
       "      <td>0.175564</td>\n",
       "      <td>2</td>\n",
       "      <td>4</td>\n",
       "    </tr>\n",
       "    <tr>\n",
       "      <th>5527</th>\n",
       "      <td>Giannis Antetokounmpo</td>\n",
       "      <td>0.606</td>\n",
       "      <td>0.225594</td>\n",
       "      <td>3</td>\n",
       "      <td>1</td>\n",
       "    </tr>\n",
       "    <tr>\n",
       "      <th>7049</th>\n",
       "      <td>Jayson Tatum</td>\n",
       "      <td>0.280</td>\n",
       "      <td>0.138577</td>\n",
       "      <td>4</td>\n",
       "      <td>9</td>\n",
       "    </tr>\n",
       "    <tr>\n",
       "      <th>13298</th>\n",
       "      <td>Shai Gilgeous-Alexander</td>\n",
       "      <td>0.046</td>\n",
       "      <td>0.148613</td>\n",
       "      <td>5</td>\n",
       "      <td>5</td>\n",
       "    </tr>\n",
       "    <tr>\n",
       "      <th>4351</th>\n",
       "      <td>Donovan Mitchell</td>\n",
       "      <td>0.030</td>\n",
       "      <td>0.087734</td>\n",
       "      <td>6</td>\n",
       "      <td>22</td>\n",
       "    </tr>\n",
       "    <tr>\n",
       "      <th>4270</th>\n",
       "      <td>Domantas Sabonis</td>\n",
       "      <td>0.027</td>\n",
       "      <td>0.094451</td>\n",
       "      <td>7</td>\n",
       "      <td>18</td>\n",
       "    </tr>\n",
       "    <tr>\n",
       "      <th>9631</th>\n",
       "      <td>Luka Dončić</td>\n",
       "      <td>0.010</td>\n",
       "      <td>0.196798</td>\n",
       "      <td>8</td>\n",
       "      <td>3</td>\n",
       "    </tr>\n",
       "    <tr>\n",
       "      <th>13664</th>\n",
       "      <td>Stephen Curry</td>\n",
       "      <td>0.005</td>\n",
       "      <td>0.107884</td>\n",
       "      <td>9</td>\n",
       "      <td>14</td>\n",
       "    </tr>\n",
       "    <tr>\n",
       "      <th>7422</th>\n",
       "      <td>Jimmy Butler</td>\n",
       "      <td>0.003</td>\n",
       "      <td>0.111564</td>\n",
       "      <td>10</td>\n",
       "      <td>13</td>\n",
       "    </tr>\n",
       "  </tbody>\n",
       "</table>\n",
       "</div>"
      ],
      "text/plain": [
       "                        Player  voting_share  prediction  rk  Pred_rk\n",
       "7584               Joel Embiid         0.915    0.203551   1        2\n",
       "11303             Nikola Jokić         0.674    0.175564   2        4\n",
       "5527     Giannis Antetokounmpo         0.606    0.225594   3        1\n",
       "7049              Jayson Tatum         0.280    0.138577   4        9\n",
       "13298  Shai Gilgeous-Alexander         0.046    0.148613   5        5\n",
       "4351          Donovan Mitchell         0.030    0.087734   6       22\n",
       "4270          Domantas Sabonis         0.027    0.094451   7       18\n",
       "9631               Luka Dončić         0.010    0.196798   8        3\n",
       "13664            Stephen Curry         0.005    0.107884   9       14\n",
       "7422              Jimmy Butler         0.003    0.111564  10       13"
      ]
     },
     "execution_count": 16,
     "metadata": {},
     "output_type": "execute_result"
    }
   ],
   "source": [
    "review.sort_values(by='voting_share', ascending=False).head(10)"
   ]
  },
  {
   "cell_type": "markdown",
   "id": "8e06c688",
   "metadata": {},
   "source": [
    "A metric based on cumulative precision is proposed, where it is evaluated how quickly the model found the 5 best candidates."
   ]
  },
  {
   "cell_type": "code",
   "execution_count": 17,
   "id": "0bc3fe57",
   "metadata": {},
   "outputs": [],
   "source": [
    "def find_ap(df):\n",
    "    actual_5=df.sort_values(by='voting_share', ascending=False).head(5)\n",
    "    predics=df.sort_values(by='prediction', ascending=False)\n",
    "    ps=[]\n",
    "    found=0\n",
    "    seen=1\n",
    "    for index,row in predics.iterrows():\n",
    "        if row['Player'] in actual_5['Player'].values:\n",
    "            found+=1\n",
    "            ps.append(found/seen)\n",
    "        seen+=1\n",
    "    return sum(ps)/len(ps)"
   ]
  },
  {
   "cell_type": "code",
   "execution_count": 18,
   "id": "9906bd60",
   "metadata": {},
   "outputs": [
    {
     "data": {
      "text/plain": [
       "0.821111111111111"
      ]
     },
     "execution_count": 18,
     "metadata": {},
     "output_type": "execute_result"
    }
   ],
   "source": [
    "find_ap(review)"
   ]
  },
  {
   "cell_type": "markdown",
   "id": "ba44f8f8",
   "metadata": {},
   "source": [
    "A back test is performed to evaluate the accuracy with more data, taking into account that in this problem the chronological order is important."
   ]
  },
  {
   "cell_type": "code",
   "execution_count": 19,
   "id": "1e898cc8",
   "metadata": {},
   "outputs": [],
   "source": [
    "def backtest(stats,model,pred_features,years_range=2024):\n",
    "    years=list(range(1990, years_range))\n",
    "    ap_list=[]\n",
    "    all_predicss=[]\n",
    "    for year in years[5:]:\n",
    "        train=stats[stats['Year'] < year]\n",
    "        test=stats[stats['Year'] == year]\n",
    "        model.fit(train[pred_features], train['voting_share'])\n",
    "        predics=model.predict(test[pred_features])\n",
    "        review = pd.concat([test[['Player', 'voting_share']], pd.Series(predics,name='prediction',index=test.index)], axis=1)\n",
    "        review.sort_values(by='voting_share', ascending=False, inplace=True)\n",
    "        all_predicss.append(review)\n",
    "        ap_list.append(find_ap(review))\n",
    "    return sum(ap_list)/len(ap_list),ap_list,all_predicss\n",
    "\n",
    "\n"
   ]
  },
  {
   "cell_type": "code",
   "execution_count": 20,
   "id": "932375ad",
   "metadata": {},
   "outputs": [],
   "source": [
    "mean_ap,ap_list,all_predicss=backtest(stats,ridge_model,pred_features,2024)"
   ]
  },
  {
   "cell_type": "code",
   "execution_count": 21,
   "id": "d0920a77",
   "metadata": {},
   "outputs": [
    {
     "name": "stdout",
     "output_type": "stream",
     "text": [
      "0.7347933944208411\n"
     ]
    },
    {
     "data": {
      "text/html": [
       "<div>\n",
       "<style scoped>\n",
       "    .dataframe tbody tr th:only-of-type {\n",
       "        vertical-align: middle;\n",
       "    }\n",
       "\n",
       "    .dataframe tbody tr th {\n",
       "        vertical-align: top;\n",
       "    }\n",
       "\n",
       "    .dataframe thead th {\n",
       "        text-align: right;\n",
       "    }\n",
       "</style>\n",
       "<table border=\"1\" class=\"dataframe\">\n",
       "  <thead>\n",
       "    <tr style=\"text-align: right;\">\n",
       "      <th></th>\n",
       "      <th>Player</th>\n",
       "      <th>voting_share</th>\n",
       "      <th>prediction</th>\n",
       "    </tr>\n",
       "  </thead>\n",
       "  <tbody>\n",
       "    <tr>\n",
       "      <th>7584</th>\n",
       "      <td>Joel Embiid</td>\n",
       "      <td>0.915</td>\n",
       "      <td>0.203551</td>\n",
       "    </tr>\n",
       "    <tr>\n",
       "      <th>11303</th>\n",
       "      <td>Nikola Jokić</td>\n",
       "      <td>0.674</td>\n",
       "      <td>0.175564</td>\n",
       "    </tr>\n",
       "    <tr>\n",
       "      <th>5527</th>\n",
       "      <td>Giannis Antetokounmpo</td>\n",
       "      <td>0.606</td>\n",
       "      <td>0.225594</td>\n",
       "    </tr>\n",
       "    <tr>\n",
       "      <th>7049</th>\n",
       "      <td>Jayson Tatum</td>\n",
       "      <td>0.280</td>\n",
       "      <td>0.138577</td>\n",
       "    </tr>\n",
       "    <tr>\n",
       "      <th>13298</th>\n",
       "      <td>Shai Gilgeous-Alexander</td>\n",
       "      <td>0.046</td>\n",
       "      <td>0.148613</td>\n",
       "    </tr>\n",
       "    <tr>\n",
       "      <th>4351</th>\n",
       "      <td>Donovan Mitchell</td>\n",
       "      <td>0.030</td>\n",
       "      <td>0.087734</td>\n",
       "    </tr>\n",
       "    <tr>\n",
       "      <th>4270</th>\n",
       "      <td>Domantas Sabonis</td>\n",
       "      <td>0.027</td>\n",
       "      <td>0.094451</td>\n",
       "    </tr>\n",
       "    <tr>\n",
       "      <th>9631</th>\n",
       "      <td>Luka Dončić</td>\n",
       "      <td>0.010</td>\n",
       "      <td>0.196798</td>\n",
       "    </tr>\n",
       "    <tr>\n",
       "      <th>13664</th>\n",
       "      <td>Stephen Curry</td>\n",
       "      <td>0.005</td>\n",
       "      <td>0.107884</td>\n",
       "    </tr>\n",
       "    <tr>\n",
       "      <th>7422</th>\n",
       "      <td>Jimmy Butler</td>\n",
       "      <td>0.003</td>\n",
       "      <td>0.111564</td>\n",
       "    </tr>\n",
       "  </tbody>\n",
       "</table>\n",
       "</div>"
      ],
      "text/plain": [
       "                        Player  voting_share  prediction\n",
       "7584               Joel Embiid         0.915    0.203551\n",
       "11303             Nikola Jokić         0.674    0.175564\n",
       "5527     Giannis Antetokounmpo         0.606    0.225594\n",
       "7049              Jayson Tatum         0.280    0.138577\n",
       "13298  Shai Gilgeous-Alexander         0.046    0.148613\n",
       "4351          Donovan Mitchell         0.030    0.087734\n",
       "4270          Domantas Sabonis         0.027    0.094451\n",
       "9631               Luka Dončić         0.010    0.196798\n",
       "13664            Stephen Curry         0.005    0.107884\n",
       "7422              Jimmy Butler         0.003    0.111564"
      ]
     },
     "execution_count": 21,
     "metadata": {},
     "output_type": "execute_result"
    }
   ],
   "source": [
    "print(mean_ap)\n",
    "all_predicss[-1].head(10)"
   ]
  },
  {
   "cell_type": "markdown",
   "id": "75587bc7",
   "metadata": {},
   "source": [
    "### first NN proposed"
   ]
  },
  {
   "cell_type": "code",
   "execution_count": null,
   "id": "ee4f5730",
   "metadata": {},
   "outputs": [],
   "source": [
    "from sklearn.model_selection import train_test_split\n",
    "from sklearn.preprocessing import StandardScaler\n",
    "from tensorflow.keras.models import Sequential\n",
    "from tensorflow.keras.layers import Dense\n",
    "from scikeras.wrappers import KerasRegressor\n",
    "\n",
    "\n",
    "def create_nn_model():\n",
    "    model = Sequential()\n",
    "    model.add(Dense(64, input_dim=len(pred_features), activation='relu'))\n",
    "    model.add(Dense(32, activation='relu'))\n",
    "    model.add(Dense(1))  \n",
    "    model.compile(optimizer='adam', loss='mean_squared_error', metrics=['mean_absolute_error'])\n",
    "    return model\n",
    "\n",
    "\n",
    "nn_model = KerasRegressor(model=create_nn_model, epochs=100, batch_size=32, verbose=0)\n",
    "\n",
    "\n"
   ]
  },
  {
   "cell_type": "code",
   "execution_count": 23,
   "id": "8823d88e",
   "metadata": {},
   "outputs": [
    {
     "name": "stderr",
     "output_type": "stream",
     "text": [
      "c:\\Users\\57300\\Desktop\\mvp nba projection\\mvp\\lib\\site-packages\\keras\\src\\layers\\core\\dense.py:87: UserWarning: Do not pass an `input_shape`/`input_dim` argument to a layer. When using Sequential models, prefer using an `Input(shape)` object as the first layer in the model instead.\n",
      "  super().__init__(activity_regularizer=activity_regularizer, **kwargs)\n",
      "c:\\Users\\57300\\Desktop\\mvp nba projection\\mvp\\lib\\site-packages\\keras\\src\\layers\\core\\dense.py:87: UserWarning: Do not pass an `input_shape`/`input_dim` argument to a layer. When using Sequential models, prefer using an `Input(shape)` object as the first layer in the model instead.\n",
      "  super().__init__(activity_regularizer=activity_regularizer, **kwargs)\n",
      "c:\\Users\\57300\\Desktop\\mvp nba projection\\mvp\\lib\\site-packages\\keras\\src\\layers\\core\\dense.py:87: UserWarning: Do not pass an `input_shape`/`input_dim` argument to a layer. When using Sequential models, prefer using an `Input(shape)` object as the first layer in the model instead.\n",
      "  super().__init__(activity_regularizer=activity_regularizer, **kwargs)\n",
      "c:\\Users\\57300\\Desktop\\mvp nba projection\\mvp\\lib\\site-packages\\keras\\src\\layers\\core\\dense.py:87: UserWarning: Do not pass an `input_shape`/`input_dim` argument to a layer. When using Sequential models, prefer using an `Input(shape)` object as the first layer in the model instead.\n",
      "  super().__init__(activity_regularizer=activity_regularizer, **kwargs)\n",
      "c:\\Users\\57300\\Desktop\\mvp nba projection\\mvp\\lib\\site-packages\\keras\\src\\layers\\core\\dense.py:87: UserWarning: Do not pass an `input_shape`/`input_dim` argument to a layer. When using Sequential models, prefer using an `Input(shape)` object as the first layer in the model instead.\n",
      "  super().__init__(activity_regularizer=activity_regularizer, **kwargs)\n",
      "c:\\Users\\57300\\Desktop\\mvp nba projection\\mvp\\lib\\site-packages\\keras\\src\\layers\\core\\dense.py:87: UserWarning: Do not pass an `input_shape`/`input_dim` argument to a layer. When using Sequential models, prefer using an `Input(shape)` object as the first layer in the model instead.\n",
      "  super().__init__(activity_regularizer=activity_regularizer, **kwargs)\n",
      "c:\\Users\\57300\\Desktop\\mvp nba projection\\mvp\\lib\\site-packages\\keras\\src\\layers\\core\\dense.py:87: UserWarning: Do not pass an `input_shape`/`input_dim` argument to a layer. When using Sequential models, prefer using an `Input(shape)` object as the first layer in the model instead.\n",
      "  super().__init__(activity_regularizer=activity_regularizer, **kwargs)\n",
      "c:\\Users\\57300\\Desktop\\mvp nba projection\\mvp\\lib\\site-packages\\keras\\src\\layers\\core\\dense.py:87: UserWarning: Do not pass an `input_shape`/`input_dim` argument to a layer. When using Sequential models, prefer using an `Input(shape)` object as the first layer in the model instead.\n",
      "  super().__init__(activity_regularizer=activity_regularizer, **kwargs)\n",
      "c:\\Users\\57300\\Desktop\\mvp nba projection\\mvp\\lib\\site-packages\\keras\\src\\layers\\core\\dense.py:87: UserWarning: Do not pass an `input_shape`/`input_dim` argument to a layer. When using Sequential models, prefer using an `Input(shape)` object as the first layer in the model instead.\n",
      "  super().__init__(activity_regularizer=activity_regularizer, **kwargs)\n",
      "c:\\Users\\57300\\Desktop\\mvp nba projection\\mvp\\lib\\site-packages\\keras\\src\\layers\\core\\dense.py:87: UserWarning: Do not pass an `input_shape`/`input_dim` argument to a layer. When using Sequential models, prefer using an `Input(shape)` object as the first layer in the model instead.\n",
      "  super().__init__(activity_regularizer=activity_regularizer, **kwargs)\n",
      "c:\\Users\\57300\\Desktop\\mvp nba projection\\mvp\\lib\\site-packages\\keras\\src\\layers\\core\\dense.py:87: UserWarning: Do not pass an `input_shape`/`input_dim` argument to a layer. When using Sequential models, prefer using an `Input(shape)` object as the first layer in the model instead.\n",
      "  super().__init__(activity_regularizer=activity_regularizer, **kwargs)\n",
      "c:\\Users\\57300\\Desktop\\mvp nba projection\\mvp\\lib\\site-packages\\keras\\src\\layers\\core\\dense.py:87: UserWarning: Do not pass an `input_shape`/`input_dim` argument to a layer. When using Sequential models, prefer using an `Input(shape)` object as the first layer in the model instead.\n",
      "  super().__init__(activity_regularizer=activity_regularizer, **kwargs)\n",
      "c:\\Users\\57300\\Desktop\\mvp nba projection\\mvp\\lib\\site-packages\\keras\\src\\layers\\core\\dense.py:87: UserWarning: Do not pass an `input_shape`/`input_dim` argument to a layer. When using Sequential models, prefer using an `Input(shape)` object as the first layer in the model instead.\n",
      "  super().__init__(activity_regularizer=activity_regularizer, **kwargs)\n",
      "c:\\Users\\57300\\Desktop\\mvp nba projection\\mvp\\lib\\site-packages\\keras\\src\\layers\\core\\dense.py:87: UserWarning: Do not pass an `input_shape`/`input_dim` argument to a layer. When using Sequential models, prefer using an `Input(shape)` object as the first layer in the model instead.\n",
      "  super().__init__(activity_regularizer=activity_regularizer, **kwargs)\n",
      "c:\\Users\\57300\\Desktop\\mvp nba projection\\mvp\\lib\\site-packages\\keras\\src\\layers\\core\\dense.py:87: UserWarning: Do not pass an `input_shape`/`input_dim` argument to a layer. When using Sequential models, prefer using an `Input(shape)` object as the first layer in the model instead.\n",
      "  super().__init__(activity_regularizer=activity_regularizer, **kwargs)\n",
      "c:\\Users\\57300\\Desktop\\mvp nba projection\\mvp\\lib\\site-packages\\keras\\src\\layers\\core\\dense.py:87: UserWarning: Do not pass an `input_shape`/`input_dim` argument to a layer. When using Sequential models, prefer using an `Input(shape)` object as the first layer in the model instead.\n",
      "  super().__init__(activity_regularizer=activity_regularizer, **kwargs)\n",
      "c:\\Users\\57300\\Desktop\\mvp nba projection\\mvp\\lib\\site-packages\\keras\\src\\layers\\core\\dense.py:87: UserWarning: Do not pass an `input_shape`/`input_dim` argument to a layer. When using Sequential models, prefer using an `Input(shape)` object as the first layer in the model instead.\n",
      "  super().__init__(activity_regularizer=activity_regularizer, **kwargs)\n",
      "c:\\Users\\57300\\Desktop\\mvp nba projection\\mvp\\lib\\site-packages\\keras\\src\\layers\\core\\dense.py:87: UserWarning: Do not pass an `input_shape`/`input_dim` argument to a layer. When using Sequential models, prefer using an `Input(shape)` object as the first layer in the model instead.\n",
      "  super().__init__(activity_regularizer=activity_regularizer, **kwargs)\n",
      "c:\\Users\\57300\\Desktop\\mvp nba projection\\mvp\\lib\\site-packages\\keras\\src\\layers\\core\\dense.py:87: UserWarning: Do not pass an `input_shape`/`input_dim` argument to a layer. When using Sequential models, prefer using an `Input(shape)` object as the first layer in the model instead.\n",
      "  super().__init__(activity_regularizer=activity_regularizer, **kwargs)\n",
      "c:\\Users\\57300\\Desktop\\mvp nba projection\\mvp\\lib\\site-packages\\keras\\src\\layers\\core\\dense.py:87: UserWarning: Do not pass an `input_shape`/`input_dim` argument to a layer. When using Sequential models, prefer using an `Input(shape)` object as the first layer in the model instead.\n",
      "  super().__init__(activity_regularizer=activity_regularizer, **kwargs)\n",
      "c:\\Users\\57300\\Desktop\\mvp nba projection\\mvp\\lib\\site-packages\\keras\\src\\layers\\core\\dense.py:87: UserWarning: Do not pass an `input_shape`/`input_dim` argument to a layer. When using Sequential models, prefer using an `Input(shape)` object as the first layer in the model instead.\n",
      "  super().__init__(activity_regularizer=activity_regularizer, **kwargs)\n",
      "c:\\Users\\57300\\Desktop\\mvp nba projection\\mvp\\lib\\site-packages\\keras\\src\\layers\\core\\dense.py:87: UserWarning: Do not pass an `input_shape`/`input_dim` argument to a layer. When using Sequential models, prefer using an `Input(shape)` object as the first layer in the model instead.\n",
      "  super().__init__(activity_regularizer=activity_regularizer, **kwargs)\n",
      "c:\\Users\\57300\\Desktop\\mvp nba projection\\mvp\\lib\\site-packages\\keras\\src\\layers\\core\\dense.py:87: UserWarning: Do not pass an `input_shape`/`input_dim` argument to a layer. When using Sequential models, prefer using an `Input(shape)` object as the first layer in the model instead.\n",
      "  super().__init__(activity_regularizer=activity_regularizer, **kwargs)\n",
      "c:\\Users\\57300\\Desktop\\mvp nba projection\\mvp\\lib\\site-packages\\keras\\src\\layers\\core\\dense.py:87: UserWarning: Do not pass an `input_shape`/`input_dim` argument to a layer. When using Sequential models, prefer using an `Input(shape)` object as the first layer in the model instead.\n",
      "  super().__init__(activity_regularizer=activity_regularizer, **kwargs)\n",
      "c:\\Users\\57300\\Desktop\\mvp nba projection\\mvp\\lib\\site-packages\\keras\\src\\layers\\core\\dense.py:87: UserWarning: Do not pass an `input_shape`/`input_dim` argument to a layer. When using Sequential models, prefer using an `Input(shape)` object as the first layer in the model instead.\n",
      "  super().__init__(activity_regularizer=activity_regularizer, **kwargs)\n",
      "c:\\Users\\57300\\Desktop\\mvp nba projection\\mvp\\lib\\site-packages\\keras\\src\\layers\\core\\dense.py:87: UserWarning: Do not pass an `input_shape`/`input_dim` argument to a layer. When using Sequential models, prefer using an `Input(shape)` object as the first layer in the model instead.\n",
      "  super().__init__(activity_regularizer=activity_regularizer, **kwargs)\n",
      "c:\\Users\\57300\\Desktop\\mvp nba projection\\mvp\\lib\\site-packages\\keras\\src\\layers\\core\\dense.py:87: UserWarning: Do not pass an `input_shape`/`input_dim` argument to a layer. When using Sequential models, prefer using an `Input(shape)` object as the first layer in the model instead.\n",
      "  super().__init__(activity_regularizer=activity_regularizer, **kwargs)\n",
      "c:\\Users\\57300\\Desktop\\mvp nba projection\\mvp\\lib\\site-packages\\keras\\src\\layers\\core\\dense.py:87: UserWarning: Do not pass an `input_shape`/`input_dim` argument to a layer. When using Sequential models, prefer using an `Input(shape)` object as the first layer in the model instead.\n",
      "  super().__init__(activity_regularizer=activity_regularizer, **kwargs)\n",
      "c:\\Users\\57300\\Desktop\\mvp nba projection\\mvp\\lib\\site-packages\\keras\\src\\layers\\core\\dense.py:87: UserWarning: Do not pass an `input_shape`/`input_dim` argument to a layer. When using Sequential models, prefer using an `Input(shape)` object as the first layer in the model instead.\n",
      "  super().__init__(activity_regularizer=activity_regularizer, **kwargs)\n"
     ]
    }
   ],
   "source": [
    "nn_ap,nn_ap_list,nn_all_predicss=backtest(stats,make_pipeline(StandardScaler(),nn_model),pred_features,2024)"
   ]
  },
  {
   "cell_type": "markdown",
   "id": "1071c4fa",
   "metadata": {},
   "source": [
    "### some other models"
   ]
  },
  {
   "cell_type": "code",
   "execution_count": 24,
   "id": "8c86b0d1",
   "metadata": {},
   "outputs": [],
   "source": [
    "import numpy as np\n",
    "import pandas as pd\n",
    "from sklearn.pipeline import make_pipeline\n",
    "from sklearn.preprocessing import StandardScaler\n",
    "from sklearn.linear_model import Ridge, Lasso, LinearRegression\n",
    "from sklearn.svm import SVR\n",
    "from sklearn.ensemble import RandomForestRegressor\n",
    "\n",
    "\n",
    "\n",
    "models_dict = {}\n",
    "\n",
    "models_dict['ridge_regression'] = make_pipeline(StandardScaler(), Ridge(alpha=1.0))\n",
    "models_dict['lasso_regression'] = make_pipeline(StandardScaler(), Lasso(alpha=0.1))\n",
    "models_dict['linear_regression'] = make_pipeline(StandardScaler(), LinearRegression())\n",
    "models_dict['svr'] = make_pipeline(StandardScaler(), SVR(kernel='linear'))\n",
    "models_dict['random_forest'] =  RandomForestRegressor(n_estimators=100, random_state=42,min_samples_split=5, max_depth=10)"
   ]
  },
  {
   "cell_type": "markdown",
   "id": "e4675e73",
   "metadata": {},
   "source": [
    "### model evaluation"
   ]
  },
  {
   "cell_type": "code",
   "execution_count": null,
   "id": "f8483a4c",
   "metadata": {},
   "outputs": [],
   "source": [
    "aps=[]\n",
    "std_ap=[]\n",
    "for name, model in models_dict.items():\n",
    "    try:\n",
    "        mean_ap,ap_list,all_predicss=backtest(stats,model,pred_features,2024)\n",
    "        aps.append(mean_ap)\n",
    "        std_ap.append(np.std(ap_list))\n",
    "    \n",
    "    except Exception as e:\n",
    "        print(f\"Error with model {name}: {e}\")\n"
   ]
  },
  {
   "cell_type": "markdown",
   "id": "1952d869",
   "metadata": {},
   "source": [
    "### model performance"
   ]
  },
  {
   "cell_type": "code",
   "execution_count": 31,
   "id": "ac25f201",
   "metadata": {},
   "outputs": [
    {
     "data": {
      "text/html": [
       "<div>\n",
       "<style scoped>\n",
       "    .dataframe tbody tr th:only-of-type {\n",
       "        vertical-align: middle;\n",
       "    }\n",
       "\n",
       "    .dataframe tbody tr th {\n",
       "        vertical-align: top;\n",
       "    }\n",
       "\n",
       "    .dataframe thead th {\n",
       "        text-align: right;\n",
       "    }\n",
       "</style>\n",
       "<table border=\"1\" class=\"dataframe\">\n",
       "  <thead>\n",
       "    <tr style=\"text-align: right;\">\n",
       "      <th></th>\n",
       "      <th>model</th>\n",
       "      <th>mean_ap</th>\n",
       "      <th>std_ap</th>\n",
       "    </tr>\n",
       "  </thead>\n",
       "  <tbody>\n",
       "    <tr>\n",
       "      <th>0</th>\n",
       "      <td>ridge_regression</td>\n",
       "      <td>0.734793</td>\n",
       "      <td>0.168011</td>\n",
       "    </tr>\n",
       "    <tr>\n",
       "      <th>1</th>\n",
       "      <td>lasso_regression</td>\n",
       "      <td>0.219314</td>\n",
       "      <td>0.035886</td>\n",
       "    </tr>\n",
       "    <tr>\n",
       "      <th>2</th>\n",
       "      <td>linear_regression</td>\n",
       "      <td>0.728973</td>\n",
       "      <td>0.174458</td>\n",
       "    </tr>\n",
       "    <tr>\n",
       "      <th>3</th>\n",
       "      <td>svr</td>\n",
       "      <td>0.794756</td>\n",
       "      <td>0.167586</td>\n",
       "    </tr>\n",
       "    <tr>\n",
       "      <th>4</th>\n",
       "      <td>random_forest</td>\n",
       "      <td>0.740563</td>\n",
       "      <td>0.148961</td>\n",
       "    </tr>\n",
       "    <tr>\n",
       "      <th>5</th>\n",
       "      <td>nn</td>\n",
       "      <td>0.728139</td>\n",
       "      <td>0.201166</td>\n",
       "    </tr>\n",
       "  </tbody>\n",
       "</table>\n",
       "</div>"
      ],
      "text/plain": [
       "               model   mean_ap    std_ap\n",
       "0   ridge_regression  0.734793  0.168011\n",
       "1   lasso_regression  0.219314  0.035886\n",
       "2  linear_regression  0.728973  0.174458\n",
       "3                svr  0.794756  0.167586\n",
       "4      random_forest  0.740563  0.148961\n",
       "5                 nn  0.728139  0.201166"
      ]
     },
     "execution_count": 31,
     "metadata": {},
     "output_type": "execute_result"
    }
   ],
   "source": [
    "perfmornace=pd.DataFrame({'model':models_dict.keys(),'mean_ap':aps,'std_ap':std_ap})\n",
    "perfmornace.loc[len(perfmornace)] = ['nn', nn_ap, np.std(nn_ap_list)]\n",
    "perfmornace"
   ]
  },
  {
   "cell_type": "markdown",
   "id": "9d801dd8",
   "metadata": {},
   "source": [
    "### second NN model"
   ]
  },
  {
   "cell_type": "code",
   "execution_count": null,
   "id": "df76ebd8",
   "metadata": {},
   "outputs": [
    {
     "name": "stderr",
     "output_type": "stream",
     "text": [
      "c:\\Users\\57300\\Desktop\\mvp nba projection\\mvp\\lib\\site-packages\\keras\\src\\layers\\core\\dense.py:87: UserWarning: Do not pass an `input_shape`/`input_dim` argument to a layer. When using Sequential models, prefer using an `Input(shape)` object as the first layer in the model instead.\n",
      "  super().__init__(activity_regularizer=activity_regularizer, **kwargs)\n"
     ]
    },
    {
     "data": {
      "text/plain": [
       "0.5149286987522281"
      ]
     },
     "execution_count": 32,
     "metadata": {},
     "output_type": "execute_result"
    }
   ],
   "source": [
    "def create_nn_model():\n",
    "    model = Sequential()\n",
    "    model.add(Dense(128, input_dim=len(pred_features), activation='relu'))\n",
    "    model.add(Dense(64, activation='relu'))\n",
    "    model.add(Dense(32, activation='relu'))\n",
    "    model.add(Dense(1))  \n",
    "    model.compile(optimizer='adam', loss='mean_squared_error', metrics=['mean_absolute_error'])\n",
    "    return model\n",
    "\n",
    "nn2_model = KerasRegressor(model=create_nn_model, epochs=100, batch_size=32, verbose=0)\n",
    "train=stats[stats['Year'] < 2023].copy()\n",
    "test=stats[stats['Year'] == 2023].copy()\n",
    "nn2_model.fit(train[pred_features], train['voting_share'])\n",
    "predics=nn2_model.predict(test[pred_features])\n",
    "review = pd.concat([test[['Player', 'voting_share']], pd.Series(predics,name='prediction',index=test.index)], axis=1)\n",
    "review = review.sort_values(by='voting_share', ascending=False)  \n",
    "review['rk'] = list(range(1, review.shape[0] + 1))\n",
    "\n",
    "review = review.sort_values(by='prediction', ascending=False)  \n",
    "review['Pred_rk'] = list(range(1, review.shape[0] + 1))\n",
    "review.sort_values(by='voting_share', ascending=False).head(10)\n",
    "find_ap(review)"
   ]
  },
  {
   "cell_type": "code",
   "execution_count": 34,
   "id": "299d6669",
   "metadata": {},
   "outputs": [],
   "source": [
    "best_model=models_dict['svr']\n",
    "second_model=models_dict['random_forest']"
   ]
  },
  {
   "cell_type": "markdown",
   "id": "e4f7cedc",
   "metadata": {},
   "source": [
    "### saving models"
   ]
  },
  {
   "cell_type": "code",
   "execution_count": 35,
   "id": "1644aa9a",
   "metadata": {},
   "outputs": [
    {
     "data": {
      "text/plain": [
       "['models/second_model_pipeline.pkl']"
      ]
     },
     "execution_count": 35,
     "metadata": {},
     "output_type": "execute_result"
    }
   ],
   "source": [
    "import joblib\n",
    "\n",
    "\n",
    "joblib.dump(best_model, 'models/best_model_pipeline.pkl')\n",
    "joblib.dump(second_model, 'models/second_model_pipeline.pkl')\n"
   ]
  }
 ],
 "metadata": {
  "kernelspec": {
   "display_name": "Python (mvp)",
   "language": "python",
   "name": "mvp"
  },
  "language_info": {
   "codemirror_mode": {
    "name": "ipython",
    "version": 3
   },
   "file_extension": ".py",
   "mimetype": "text/x-python",
   "name": "python",
   "nbconvert_exporter": "python",
   "pygments_lexer": "ipython3",
   "version": "3.10.11"
  }
 },
 "nbformat": 4,
 "nbformat_minor": 5
}
