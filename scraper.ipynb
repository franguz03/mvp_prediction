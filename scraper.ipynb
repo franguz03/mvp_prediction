{
 "cells": [
  {
   "cell_type": "code",
   "execution_count": 16,
   "id": "374ee61e",
   "metadata": {},
   "outputs": [],
   "source": [
    "import requests \n",
    "from bs4 import BeautifulSoup\n",
    "import pandas as pd\n",
    "import time"
   ]
  },
  {
   "cell_type": "code",
   "execution_count": 8,
   "id": "b08b5c03",
   "metadata": {},
   "outputs": [],
   "source": [
    "years=list(range(1990, 2024))"
   ]
  },
  {
   "cell_type": "markdown",
   "id": "6b9f284e",
   "metadata": {},
   "source": [
    "## Getting stats for mvp candidates"
   ]
  },
  {
   "cell_type": "code",
   "execution_count": null,
   "id": "80bc7718",
   "metadata": {},
   "outputs": [
    {
     "name": "stderr",
     "output_type": "stream",
     "text": [
      "C:\\Users\\57300\\AppData\\Local\\Temp\\ipykernel_25372\\499834627.py:13: FutureWarning: Passing literal html to 'read_html' is deprecated and will be removed in a future version. To read from a literal string, wrap it in a 'StringIO' object.\n",
      "  df = pd.read_html(str(mvp_table))[0]\n"
     ]
    },
    {
     "name": "stdout",
     "output_type": "stream",
     "text": [
      "Datos extraídos para 1990\n"
     ]
    },
    {
     "name": "stderr",
     "output_type": "stream",
     "text": [
      "C:\\Users\\57300\\AppData\\Local\\Temp\\ipykernel_25372\\499834627.py:13: FutureWarning: Passing literal html to 'read_html' is deprecated and will be removed in a future version. To read from a literal string, wrap it in a 'StringIO' object.\n",
      "  df = pd.read_html(str(mvp_table))[0]\n"
     ]
    },
    {
     "name": "stdout",
     "output_type": "stream",
     "text": [
      "Datos extraídos para 1991\n"
     ]
    },
    {
     "name": "stderr",
     "output_type": "stream",
     "text": [
      "C:\\Users\\57300\\AppData\\Local\\Temp\\ipykernel_25372\\499834627.py:13: FutureWarning: Passing literal html to 'read_html' is deprecated and will be removed in a future version. To read from a literal string, wrap it in a 'StringIO' object.\n",
      "  df = pd.read_html(str(mvp_table))[0]\n"
     ]
    },
    {
     "name": "stdout",
     "output_type": "stream",
     "text": [
      "Datos extraídos para 1992\n"
     ]
    },
    {
     "name": "stderr",
     "output_type": "stream",
     "text": [
      "C:\\Users\\57300\\AppData\\Local\\Temp\\ipykernel_25372\\499834627.py:13: FutureWarning: Passing literal html to 'read_html' is deprecated and will be removed in a future version. To read from a literal string, wrap it in a 'StringIO' object.\n",
      "  df = pd.read_html(str(mvp_table))[0]\n"
     ]
    },
    {
     "name": "stdout",
     "output_type": "stream",
     "text": [
      "Datos extraídos para 1993\n"
     ]
    },
    {
     "name": "stderr",
     "output_type": "stream",
     "text": [
      "C:\\Users\\57300\\AppData\\Local\\Temp\\ipykernel_25372\\499834627.py:13: FutureWarning: Passing literal html to 'read_html' is deprecated and will be removed in a future version. To read from a literal string, wrap it in a 'StringIO' object.\n",
      "  df = pd.read_html(str(mvp_table))[0]\n"
     ]
    },
    {
     "name": "stdout",
     "output_type": "stream",
     "text": [
      "Datos extraídos para 1994\n"
     ]
    },
    {
     "name": "stderr",
     "output_type": "stream",
     "text": [
      "C:\\Users\\57300\\AppData\\Local\\Temp\\ipykernel_25372\\499834627.py:13: FutureWarning: Passing literal html to 'read_html' is deprecated and will be removed in a future version. To read from a literal string, wrap it in a 'StringIO' object.\n",
      "  df = pd.read_html(str(mvp_table))[0]\n"
     ]
    },
    {
     "name": "stdout",
     "output_type": "stream",
     "text": [
      "Datos extraídos para 1995\n"
     ]
    },
    {
     "name": "stderr",
     "output_type": "stream",
     "text": [
      "C:\\Users\\57300\\AppData\\Local\\Temp\\ipykernel_25372\\499834627.py:13: FutureWarning: Passing literal html to 'read_html' is deprecated and will be removed in a future version. To read from a literal string, wrap it in a 'StringIO' object.\n",
      "  df = pd.read_html(str(mvp_table))[0]\n"
     ]
    },
    {
     "name": "stdout",
     "output_type": "stream",
     "text": [
      "Datos extraídos para 1996\n"
     ]
    },
    {
     "name": "stderr",
     "output_type": "stream",
     "text": [
      "C:\\Users\\57300\\AppData\\Local\\Temp\\ipykernel_25372\\499834627.py:13: FutureWarning: Passing literal html to 'read_html' is deprecated and will be removed in a future version. To read from a literal string, wrap it in a 'StringIO' object.\n",
      "  df = pd.read_html(str(mvp_table))[0]\n"
     ]
    },
    {
     "name": "stdout",
     "output_type": "stream",
     "text": [
      "Datos extraídos para 1997\n"
     ]
    },
    {
     "name": "stderr",
     "output_type": "stream",
     "text": [
      "C:\\Users\\57300\\AppData\\Local\\Temp\\ipykernel_25372\\499834627.py:13: FutureWarning: Passing literal html to 'read_html' is deprecated and will be removed in a future version. To read from a literal string, wrap it in a 'StringIO' object.\n",
      "  df = pd.read_html(str(mvp_table))[0]\n"
     ]
    },
    {
     "name": "stdout",
     "output_type": "stream",
     "text": [
      "Datos extraídos para 1998\n"
     ]
    },
    {
     "name": "stderr",
     "output_type": "stream",
     "text": [
      "C:\\Users\\57300\\AppData\\Local\\Temp\\ipykernel_25372\\499834627.py:13: FutureWarning: Passing literal html to 'read_html' is deprecated and will be removed in a future version. To read from a literal string, wrap it in a 'StringIO' object.\n",
      "  df = pd.read_html(str(mvp_table))[0]\n"
     ]
    },
    {
     "name": "stdout",
     "output_type": "stream",
     "text": [
      "Datos extraídos para 1999\n"
     ]
    },
    {
     "name": "stderr",
     "output_type": "stream",
     "text": [
      "C:\\Users\\57300\\AppData\\Local\\Temp\\ipykernel_25372\\499834627.py:13: FutureWarning: Passing literal html to 'read_html' is deprecated and will be removed in a future version. To read from a literal string, wrap it in a 'StringIO' object.\n",
      "  df = pd.read_html(str(mvp_table))[0]\n"
     ]
    },
    {
     "name": "stdout",
     "output_type": "stream",
     "text": [
      "Datos extraídos para 2000\n"
     ]
    },
    {
     "name": "stderr",
     "output_type": "stream",
     "text": [
      "C:\\Users\\57300\\AppData\\Local\\Temp\\ipykernel_25372\\499834627.py:13: FutureWarning: Passing literal html to 'read_html' is deprecated and will be removed in a future version. To read from a literal string, wrap it in a 'StringIO' object.\n",
      "  df = pd.read_html(str(mvp_table))[0]\n"
     ]
    },
    {
     "name": "stdout",
     "output_type": "stream",
     "text": [
      "Datos extraídos para 2001\n"
     ]
    },
    {
     "name": "stderr",
     "output_type": "stream",
     "text": [
      "C:\\Users\\57300\\AppData\\Local\\Temp\\ipykernel_25372\\499834627.py:13: FutureWarning: Passing literal html to 'read_html' is deprecated and will be removed in a future version. To read from a literal string, wrap it in a 'StringIO' object.\n",
      "  df = pd.read_html(str(mvp_table))[0]\n"
     ]
    },
    {
     "name": "stdout",
     "output_type": "stream",
     "text": [
      "Datos extraídos para 2002\n"
     ]
    },
    {
     "name": "stderr",
     "output_type": "stream",
     "text": [
      "C:\\Users\\57300\\AppData\\Local\\Temp\\ipykernel_25372\\499834627.py:13: FutureWarning: Passing literal html to 'read_html' is deprecated and will be removed in a future version. To read from a literal string, wrap it in a 'StringIO' object.\n",
      "  df = pd.read_html(str(mvp_table))[0]\n"
     ]
    },
    {
     "name": "stdout",
     "output_type": "stream",
     "text": [
      "Datos extraídos para 2003\n"
     ]
    },
    {
     "name": "stderr",
     "output_type": "stream",
     "text": [
      "C:\\Users\\57300\\AppData\\Local\\Temp\\ipykernel_25372\\499834627.py:13: FutureWarning: Passing literal html to 'read_html' is deprecated and will be removed in a future version. To read from a literal string, wrap it in a 'StringIO' object.\n",
      "  df = pd.read_html(str(mvp_table))[0]\n"
     ]
    },
    {
     "name": "stdout",
     "output_type": "stream",
     "text": [
      "Datos extraídos para 2004\n"
     ]
    },
    {
     "name": "stderr",
     "output_type": "stream",
     "text": [
      "C:\\Users\\57300\\AppData\\Local\\Temp\\ipykernel_25372\\499834627.py:13: FutureWarning: Passing literal html to 'read_html' is deprecated and will be removed in a future version. To read from a literal string, wrap it in a 'StringIO' object.\n",
      "  df = pd.read_html(str(mvp_table))[0]\n"
     ]
    },
    {
     "name": "stdout",
     "output_type": "stream",
     "text": [
      "Datos extraídos para 2005\n"
     ]
    },
    {
     "name": "stderr",
     "output_type": "stream",
     "text": [
      "C:\\Users\\57300\\AppData\\Local\\Temp\\ipykernel_25372\\499834627.py:13: FutureWarning: Passing literal html to 'read_html' is deprecated and will be removed in a future version. To read from a literal string, wrap it in a 'StringIO' object.\n",
      "  df = pd.read_html(str(mvp_table))[0]\n"
     ]
    },
    {
     "name": "stdout",
     "output_type": "stream",
     "text": [
      "Datos extraídos para 2006\n"
     ]
    },
    {
     "name": "stderr",
     "output_type": "stream",
     "text": [
      "C:\\Users\\57300\\AppData\\Local\\Temp\\ipykernel_25372\\499834627.py:13: FutureWarning: Passing literal html to 'read_html' is deprecated and will be removed in a future version. To read from a literal string, wrap it in a 'StringIO' object.\n",
      "  df = pd.read_html(str(mvp_table))[0]\n"
     ]
    },
    {
     "name": "stdout",
     "output_type": "stream",
     "text": [
      "Datos extraídos para 2007\n"
     ]
    },
    {
     "name": "stderr",
     "output_type": "stream",
     "text": [
      "C:\\Users\\57300\\AppData\\Local\\Temp\\ipykernel_25372\\499834627.py:13: FutureWarning: Passing literal html to 'read_html' is deprecated and will be removed in a future version. To read from a literal string, wrap it in a 'StringIO' object.\n",
      "  df = pd.read_html(str(mvp_table))[0]\n"
     ]
    },
    {
     "name": "stdout",
     "output_type": "stream",
     "text": [
      "Datos extraídos para 2008\n"
     ]
    },
    {
     "name": "stderr",
     "output_type": "stream",
     "text": [
      "C:\\Users\\57300\\AppData\\Local\\Temp\\ipykernel_25372\\499834627.py:13: FutureWarning: Passing literal html to 'read_html' is deprecated and will be removed in a future version. To read from a literal string, wrap it in a 'StringIO' object.\n",
      "  df = pd.read_html(str(mvp_table))[0]\n"
     ]
    },
    {
     "name": "stdout",
     "output_type": "stream",
     "text": [
      "Datos extraídos para 2009\n"
     ]
    },
    {
     "name": "stderr",
     "output_type": "stream",
     "text": [
      "C:\\Users\\57300\\AppData\\Local\\Temp\\ipykernel_25372\\499834627.py:13: FutureWarning: Passing literal html to 'read_html' is deprecated and will be removed in a future version. To read from a literal string, wrap it in a 'StringIO' object.\n",
      "  df = pd.read_html(str(mvp_table))[0]\n"
     ]
    },
    {
     "name": "stdout",
     "output_type": "stream",
     "text": [
      "Datos extraídos para 2010\n"
     ]
    },
    {
     "name": "stderr",
     "output_type": "stream",
     "text": [
      "C:\\Users\\57300\\AppData\\Local\\Temp\\ipykernel_25372\\499834627.py:13: FutureWarning: Passing literal html to 'read_html' is deprecated and will be removed in a future version. To read from a literal string, wrap it in a 'StringIO' object.\n",
      "  df = pd.read_html(str(mvp_table))[0]\n"
     ]
    },
    {
     "name": "stdout",
     "output_type": "stream",
     "text": [
      "Datos extraídos para 2011\n"
     ]
    },
    {
     "name": "stderr",
     "output_type": "stream",
     "text": [
      "C:\\Users\\57300\\AppData\\Local\\Temp\\ipykernel_25372\\499834627.py:13: FutureWarning: Passing literal html to 'read_html' is deprecated and will be removed in a future version. To read from a literal string, wrap it in a 'StringIO' object.\n",
      "  df = pd.read_html(str(mvp_table))[0]\n"
     ]
    },
    {
     "name": "stdout",
     "output_type": "stream",
     "text": [
      "Datos extraídos para 2012\n"
     ]
    },
    {
     "name": "stderr",
     "output_type": "stream",
     "text": [
      "C:\\Users\\57300\\AppData\\Local\\Temp\\ipykernel_25372\\499834627.py:13: FutureWarning: Passing literal html to 'read_html' is deprecated and will be removed in a future version. To read from a literal string, wrap it in a 'StringIO' object.\n",
      "  df = pd.read_html(str(mvp_table))[0]\n"
     ]
    },
    {
     "name": "stdout",
     "output_type": "stream",
     "text": [
      "Datos extraídos para 2013\n"
     ]
    },
    {
     "name": "stderr",
     "output_type": "stream",
     "text": [
      "C:\\Users\\57300\\AppData\\Local\\Temp\\ipykernel_25372\\499834627.py:13: FutureWarning: Passing literal html to 'read_html' is deprecated and will be removed in a future version. To read from a literal string, wrap it in a 'StringIO' object.\n",
      "  df = pd.read_html(str(mvp_table))[0]\n"
     ]
    },
    {
     "name": "stdout",
     "output_type": "stream",
     "text": [
      "Datos extraídos para 2014\n"
     ]
    },
    {
     "name": "stderr",
     "output_type": "stream",
     "text": [
      "C:\\Users\\57300\\AppData\\Local\\Temp\\ipykernel_25372\\499834627.py:13: FutureWarning: Passing literal html to 'read_html' is deprecated and will be removed in a future version. To read from a literal string, wrap it in a 'StringIO' object.\n",
      "  df = pd.read_html(str(mvp_table))[0]\n"
     ]
    },
    {
     "name": "stdout",
     "output_type": "stream",
     "text": [
      "Datos extraídos para 2015\n"
     ]
    },
    {
     "name": "stderr",
     "output_type": "stream",
     "text": [
      "C:\\Users\\57300\\AppData\\Local\\Temp\\ipykernel_25372\\499834627.py:13: FutureWarning: Passing literal html to 'read_html' is deprecated and will be removed in a future version. To read from a literal string, wrap it in a 'StringIO' object.\n",
      "  df = pd.read_html(str(mvp_table))[0]\n"
     ]
    },
    {
     "name": "stdout",
     "output_type": "stream",
     "text": [
      "Datos extraídos para 2016\n"
     ]
    },
    {
     "name": "stderr",
     "output_type": "stream",
     "text": [
      "C:\\Users\\57300\\AppData\\Local\\Temp\\ipykernel_25372\\499834627.py:13: FutureWarning: Passing literal html to 'read_html' is deprecated and will be removed in a future version. To read from a literal string, wrap it in a 'StringIO' object.\n",
      "  df = pd.read_html(str(mvp_table))[0]\n"
     ]
    },
    {
     "name": "stdout",
     "output_type": "stream",
     "text": [
      "Datos extraídos para 2017\n"
     ]
    },
    {
     "name": "stderr",
     "output_type": "stream",
     "text": [
      "C:\\Users\\57300\\AppData\\Local\\Temp\\ipykernel_25372\\499834627.py:13: FutureWarning: Passing literal html to 'read_html' is deprecated and will be removed in a future version. To read from a literal string, wrap it in a 'StringIO' object.\n",
      "  df = pd.read_html(str(mvp_table))[0]\n"
     ]
    },
    {
     "name": "stdout",
     "output_type": "stream",
     "text": [
      "Datos extraídos para 2018\n"
     ]
    },
    {
     "name": "stderr",
     "output_type": "stream",
     "text": [
      "C:\\Users\\57300\\AppData\\Local\\Temp\\ipykernel_25372\\499834627.py:13: FutureWarning: Passing literal html to 'read_html' is deprecated and will be removed in a future version. To read from a literal string, wrap it in a 'StringIO' object.\n",
      "  df = pd.read_html(str(mvp_table))[0]\n"
     ]
    },
    {
     "name": "stdout",
     "output_type": "stream",
     "text": [
      "Datos extraídos para 2019\n"
     ]
    },
    {
     "name": "stderr",
     "output_type": "stream",
     "text": [
      "C:\\Users\\57300\\AppData\\Local\\Temp\\ipykernel_25372\\499834627.py:13: FutureWarning: Passing literal html to 'read_html' is deprecated and will be removed in a future version. To read from a literal string, wrap it in a 'StringIO' object.\n",
      "  df = pd.read_html(str(mvp_table))[0]\n"
     ]
    },
    {
     "name": "stdout",
     "output_type": "stream",
     "text": [
      "Datos extraídos para 2020\n"
     ]
    },
    {
     "name": "stderr",
     "output_type": "stream",
     "text": [
      "C:\\Users\\57300\\AppData\\Local\\Temp\\ipykernel_25372\\499834627.py:13: FutureWarning: Passing literal html to 'read_html' is deprecated and will be removed in a future version. To read from a literal string, wrap it in a 'StringIO' object.\n",
      "  df = pd.read_html(str(mvp_table))[0]\n"
     ]
    },
    {
     "name": "stdout",
     "output_type": "stream",
     "text": [
      "Datos extraídos para 2021\n"
     ]
    },
    {
     "name": "stderr",
     "output_type": "stream",
     "text": [
      "C:\\Users\\57300\\AppData\\Local\\Temp\\ipykernel_25372\\499834627.py:13: FutureWarning: Passing literal html to 'read_html' is deprecated and will be removed in a future version. To read from a literal string, wrap it in a 'StringIO' object.\n",
      "  df = pd.read_html(str(mvp_table))[0]\n"
     ]
    },
    {
     "name": "stdout",
     "output_type": "stream",
     "text": [
      "Datos extraídos para 2022\n"
     ]
    },
    {
     "name": "stderr",
     "output_type": "stream",
     "text": [
      "C:\\Users\\57300\\AppData\\Local\\Temp\\ipykernel_25372\\499834627.py:13: FutureWarning: Passing literal html to 'read_html' is deprecated and will be removed in a future version. To read from a literal string, wrap it in a 'StringIO' object.\n",
      "  df = pd.read_html(str(mvp_table))[0]\n"
     ]
    },
    {
     "name": "stdout",
     "output_type": "stream",
     "text": [
      "Datos extraídos para 2023\n",
      "  Unnamed: 0_level_0_Rank Unnamed: 1_level_0_Player  Unnamed: 2_level_0_Age  \\\n",
      "0                       1             Magic Johnson                      30   \n",
      "1                       2           Charles Barkley                      26   \n",
      "2                       3            Michael Jordan                      26   \n",
      "3                       4               Karl Malone                      26   \n",
      "4                       5             Patrick Ewing                      27   \n",
      "\n",
      "  Unnamed: 3_level_0_Tm  Voting_First  Voting_Pts Won  Voting_Pts Max  \\\n",
      "0                   LAL            27             636             920   \n",
      "1                   PHI            38             614             920   \n",
      "2                   CHI            21             564             920   \n",
      "3                   UTA             2             214             920   \n",
      "4                   NYK             1             162             920   \n",
      "\n",
      "   Voting_Share  Unnamed: 8_level_0_G  Per Game_MP  ...  Per Game_TRB  \\\n",
      "0         0.691                    79         37.2  ...           6.6   \n",
      "1         0.667                    79         39.1  ...          11.5   \n",
      "2         0.613                    82         39.0  ...           6.9   \n",
      "3         0.233                    82         38.1  ...          11.1   \n",
      "4         0.176                    82         38.6  ...          10.9   \n",
      "\n",
      "   Per Game_AST  Per Game_STL  Per Game_BLK  Shooting_FG%  Shooting_3P%  \\\n",
      "0          11.5           1.7           0.4         0.480         0.384   \n",
      "1           3.9           1.9           0.6         0.600         0.217   \n",
      "2           6.3           2.8           0.7         0.526         0.376   \n",
      "3           2.8           1.5           0.6         0.562         0.372   \n",
      "4           2.2           1.0           4.0         0.551         0.250   \n",
      "\n",
      "   Shooting_FT%  Advanced_WS  Advanced_WS/48  Year  \n",
      "0         0.890         16.5           0.270  1990  \n",
      "1         0.749         17.3           0.269  1990  \n",
      "2         0.848         19.0           0.285  1990  \n",
      "3         0.762         15.9           0.245  1990  \n",
      "4         0.775         13.5           0.205  1990  \n",
      "\n",
      "[5 rows x 21 columns]\n",
      "Index(['Unnamed: 0_level_0_Rank', 'Unnamed: 1_level_0_Player',\n",
      "       'Unnamed: 2_level_0_Age', 'Unnamed: 3_level_0_Tm', 'Voting_First',\n",
      "       'Voting_Pts Won', 'Voting_Pts Max', 'Voting_Share',\n",
      "       'Unnamed: 8_level_0_G', 'Per Game_MP', 'Per Game_PTS', 'Per Game_TRB',\n",
      "       'Per Game_AST', 'Per Game_STL', 'Per Game_BLK', 'Shooting_FG%',\n",
      "       'Shooting_3P%', 'Shooting_FT%', 'Advanced_WS', 'Advanced_WS/48',\n",
      "       'Year'],\n",
      "      dtype='object')\n"
     ]
    }
   ],
   "source": [
    "\n",
    "all_data = []\n",
    "headers = {\n",
    "    \"User-Agent\": \"Mozilla/5.0 (Windows NT 10.0; Win64; x64) AppleWebKit/537.36 (KHTML, like Gecko) Chrome/90.0.4430.212 Safari/537.36\"\n",
    "}\n",
    "for year in years:\n",
    "    url = f'https://www.basketball-reference.com/awards/awards_{year}.html'\n",
    "    response = requests.get(url, headers=headers)\n",
    "    soup = BeautifulSoup(response.content, 'html.parser')\n",
    "\n",
    "    mvp_table = soup.find('table', id='mvp')\n",
    "    \n",
    "    if mvp_table:\n",
    "        df = pd.read_html(str(mvp_table))[0]\n",
    "        df['Year'] = year\n",
    "        all_data.append(df)\n",
    "        print(f\"Datos extraídos para {year}\")\n",
    "    else:\n",
    "        print(f\"No se encontró la tabla para {year}\")\n",
    "    \n",
    "    time.sleep(3)  \n",
    "\n",
    "\n",
    "mvp_votes = pd.concat(all_data, ignore_index=True)\n",
    "\n",
    "mvp_votes.columns = ['_'.join(col).strip() if isinstance(col, tuple) and col[1] else col[0] for col in mvp_votes.columns]\n",
    "\n",
    "print(mvp_votes.head())\n",
    "print(mvp_votes.columns)\n"
   ]
  },
  {
   "cell_type": "code",
   "execution_count": null,
   "id": "03151776",
   "metadata": {},
   "outputs": [
    {
     "data": {
      "text/plain": [
       "['rank',\n",
       " 'player',\n",
       " 'age',\n",
       " 'tm',\n",
       " 'voting_first',\n",
       " 'voting_pts_won',\n",
       " 'voting_pts_max',\n",
       " 'voting_share',\n",
       " 'g',\n",
       " 'per_game_mp',\n",
       " 'per_game_pts',\n",
       " 'per_game_trb',\n",
       " 'per_game_ast',\n",
       " 'per_game_stl',\n",
       " 'per_game_blk',\n",
       " 'shooting_fgpct',\n",
       " 'shooting_3ppct',\n",
       " 'shooting_ftpct',\n",
       " 'advanced_ws',\n",
       " 'advanced_ws_per_48',\n",
       " 'year']"
      ]
     },
     "execution_count": 13,
     "metadata": {},
     "output_type": "execute_result"
    }
   ],
   "source": [
    "columns = mvp_votes.columns.tolist().copy()\n",
    "columns\n",
    "import re\n",
    "\n",
    "def clean_column(col_name):\n",
    "   \n",
    "    col_name = re.sub(r'^Unnamed: \\d+_level_\\d+_', '', col_name)\n",
    "    \n",
    "    col_name = col_name.strip().lower().replace('%', 'pct').replace('/', '_per_')\n",
    "    col_name = re.sub(r'[^\\w\\s]', '', col_name)  \n",
    "    col_name = re.sub(r'\\s+', '_', col_name)     \n",
    "    return col_name\n",
    "\n",
    "cleaned_columns=[clean_column(col) for col in columns]\n",
    "cleaned_columns"
   ]
  },
  {
   "cell_type": "code",
   "execution_count": 14,
   "id": "0b78708e",
   "metadata": {},
   "outputs": [
    {
     "data": {
      "text/html": [
       "<div>\n",
       "<style scoped>\n",
       "    .dataframe tbody tr th:only-of-type {\n",
       "        vertical-align: middle;\n",
       "    }\n",
       "\n",
       "    .dataframe tbody tr th {\n",
       "        vertical-align: top;\n",
       "    }\n",
       "\n",
       "    .dataframe thead th {\n",
       "        text-align: right;\n",
       "    }\n",
       "</style>\n",
       "<table border=\"1\" class=\"dataframe\">\n",
       "  <thead>\n",
       "    <tr style=\"text-align: right;\">\n",
       "      <th></th>\n",
       "      <th>rank</th>\n",
       "      <th>player</th>\n",
       "      <th>age</th>\n",
       "      <th>tm</th>\n",
       "      <th>voting_first</th>\n",
       "      <th>voting_pts_won</th>\n",
       "      <th>voting_pts_max</th>\n",
       "      <th>voting_share</th>\n",
       "      <th>g</th>\n",
       "      <th>per_game_mp</th>\n",
       "      <th>...</th>\n",
       "      <th>per_game_trb</th>\n",
       "      <th>per_game_ast</th>\n",
       "      <th>per_game_stl</th>\n",
       "      <th>per_game_blk</th>\n",
       "      <th>shooting_fgpct</th>\n",
       "      <th>shooting_3ppct</th>\n",
       "      <th>shooting_ftpct</th>\n",
       "      <th>advanced_ws</th>\n",
       "      <th>advanced_ws_per_48</th>\n",
       "      <th>year</th>\n",
       "    </tr>\n",
       "  </thead>\n",
       "  <tbody>\n",
       "    <tr>\n",
       "      <th>0</th>\n",
       "      <td>1</td>\n",
       "      <td>Magic Johnson</td>\n",
       "      <td>30</td>\n",
       "      <td>LAL</td>\n",
       "      <td>27</td>\n",
       "      <td>636</td>\n",
       "      <td>920</td>\n",
       "      <td>0.691</td>\n",
       "      <td>79</td>\n",
       "      <td>37.2</td>\n",
       "      <td>...</td>\n",
       "      <td>6.6</td>\n",
       "      <td>11.5</td>\n",
       "      <td>1.7</td>\n",
       "      <td>0.4</td>\n",
       "      <td>0.480</td>\n",
       "      <td>0.384</td>\n",
       "      <td>0.890</td>\n",
       "      <td>16.5</td>\n",
       "      <td>0.270</td>\n",
       "      <td>1990</td>\n",
       "    </tr>\n",
       "    <tr>\n",
       "      <th>1</th>\n",
       "      <td>2</td>\n",
       "      <td>Charles Barkley</td>\n",
       "      <td>26</td>\n",
       "      <td>PHI</td>\n",
       "      <td>38</td>\n",
       "      <td>614</td>\n",
       "      <td>920</td>\n",
       "      <td>0.667</td>\n",
       "      <td>79</td>\n",
       "      <td>39.1</td>\n",
       "      <td>...</td>\n",
       "      <td>11.5</td>\n",
       "      <td>3.9</td>\n",
       "      <td>1.9</td>\n",
       "      <td>0.6</td>\n",
       "      <td>0.600</td>\n",
       "      <td>0.217</td>\n",
       "      <td>0.749</td>\n",
       "      <td>17.3</td>\n",
       "      <td>0.269</td>\n",
       "      <td>1990</td>\n",
       "    </tr>\n",
       "    <tr>\n",
       "      <th>2</th>\n",
       "      <td>3</td>\n",
       "      <td>Michael Jordan</td>\n",
       "      <td>26</td>\n",
       "      <td>CHI</td>\n",
       "      <td>21</td>\n",
       "      <td>564</td>\n",
       "      <td>920</td>\n",
       "      <td>0.613</td>\n",
       "      <td>82</td>\n",
       "      <td>39.0</td>\n",
       "      <td>...</td>\n",
       "      <td>6.9</td>\n",
       "      <td>6.3</td>\n",
       "      <td>2.8</td>\n",
       "      <td>0.7</td>\n",
       "      <td>0.526</td>\n",
       "      <td>0.376</td>\n",
       "      <td>0.848</td>\n",
       "      <td>19.0</td>\n",
       "      <td>0.285</td>\n",
       "      <td>1990</td>\n",
       "    </tr>\n",
       "    <tr>\n",
       "      <th>3</th>\n",
       "      <td>4</td>\n",
       "      <td>Karl Malone</td>\n",
       "      <td>26</td>\n",
       "      <td>UTA</td>\n",
       "      <td>2</td>\n",
       "      <td>214</td>\n",
       "      <td>920</td>\n",
       "      <td>0.233</td>\n",
       "      <td>82</td>\n",
       "      <td>38.1</td>\n",
       "      <td>...</td>\n",
       "      <td>11.1</td>\n",
       "      <td>2.8</td>\n",
       "      <td>1.5</td>\n",
       "      <td>0.6</td>\n",
       "      <td>0.562</td>\n",
       "      <td>0.372</td>\n",
       "      <td>0.762</td>\n",
       "      <td>15.9</td>\n",
       "      <td>0.245</td>\n",
       "      <td>1990</td>\n",
       "    </tr>\n",
       "    <tr>\n",
       "      <th>4</th>\n",
       "      <td>5</td>\n",
       "      <td>Patrick Ewing</td>\n",
       "      <td>27</td>\n",
       "      <td>NYK</td>\n",
       "      <td>1</td>\n",
       "      <td>162</td>\n",
       "      <td>920</td>\n",
       "      <td>0.176</td>\n",
       "      <td>82</td>\n",
       "      <td>38.6</td>\n",
       "      <td>...</td>\n",
       "      <td>10.9</td>\n",
       "      <td>2.2</td>\n",
       "      <td>1.0</td>\n",
       "      <td>4.0</td>\n",
       "      <td>0.551</td>\n",
       "      <td>0.250</td>\n",
       "      <td>0.775</td>\n",
       "      <td>13.5</td>\n",
       "      <td>0.205</td>\n",
       "      <td>1990</td>\n",
       "    </tr>\n",
       "  </tbody>\n",
       "</table>\n",
       "<p>5 rows × 21 columns</p>\n",
       "</div>"
      ],
      "text/plain": [
       "  rank           player  age   tm  voting_first  voting_pts_won  \\\n",
       "0    1    Magic Johnson   30  LAL            27             636   \n",
       "1    2  Charles Barkley   26  PHI            38             614   \n",
       "2    3   Michael Jordan   26  CHI            21             564   \n",
       "3    4      Karl Malone   26  UTA             2             214   \n",
       "4    5    Patrick Ewing   27  NYK             1             162   \n",
       "\n",
       "   voting_pts_max  voting_share   g  per_game_mp  ...  per_game_trb  \\\n",
       "0             920         0.691  79         37.2  ...           6.6   \n",
       "1             920         0.667  79         39.1  ...          11.5   \n",
       "2             920         0.613  82         39.0  ...           6.9   \n",
       "3             920         0.233  82         38.1  ...          11.1   \n",
       "4             920         0.176  82         38.6  ...          10.9   \n",
       "\n",
       "   per_game_ast  per_game_stl  per_game_blk  shooting_fgpct  shooting_3ppct  \\\n",
       "0          11.5           1.7           0.4           0.480           0.384   \n",
       "1           3.9           1.9           0.6           0.600           0.217   \n",
       "2           6.3           2.8           0.7           0.526           0.376   \n",
       "3           2.8           1.5           0.6           0.562           0.372   \n",
       "4           2.2           1.0           4.0           0.551           0.250   \n",
       "\n",
       "   shooting_ftpct  advanced_ws  advanced_ws_per_48  year  \n",
       "0           0.890         16.5               0.270  1990  \n",
       "1           0.749         17.3               0.269  1990  \n",
       "2           0.848         19.0               0.285  1990  \n",
       "3           0.762         15.9               0.245  1990  \n",
       "4           0.775         13.5               0.205  1990  \n",
       "\n",
       "[5 rows x 21 columns]"
      ]
     },
     "execution_count": 14,
     "metadata": {},
     "output_type": "execute_result"
    }
   ],
   "source": [
    "mvp_votes.columns=cleaned_columns\n",
    "mvp_votes.head()"
   ]
  },
  {
   "cell_type": "code",
   "execution_count": 23,
   "id": "b345649f",
   "metadata": {},
   "outputs": [],
   "source": [
    "mvp_votes.to_csv('data/mvp_stats.csv', index=False)"
   ]
  },
  {
   "cell_type": "markdown",
   "id": "e31d705d",
   "metadata": {},
   "source": [
    "## Getting stats for all players by season"
   ]
  },
  {
   "cell_type": "code",
   "execution_count": null,
   "id": "08546c63",
   "metadata": {},
   "outputs": [
    {
     "name": "stderr",
     "output_type": "stream",
     "text": [
      "C:\\Users\\57300\\AppData\\Local\\Temp\\ipykernel_25372\\2517810379.py:13: FutureWarning: Passing literal html to 'read_html' is deprecated and will be removed in a future version. To read from a literal string, wrap it in a 'StringIO' object.\n",
      "  df = pd.read_html(str(mvp_table))[0]\n"
     ]
    },
    {
     "name": "stdout",
     "output_type": "stream",
     "text": [
      "Datos extraídos para 1990\n"
     ]
    },
    {
     "name": "stderr",
     "output_type": "stream",
     "text": [
      "C:\\Users\\57300\\AppData\\Local\\Temp\\ipykernel_25372\\2517810379.py:13: FutureWarning: Passing literal html to 'read_html' is deprecated and will be removed in a future version. To read from a literal string, wrap it in a 'StringIO' object.\n",
      "  df = pd.read_html(str(mvp_table))[0]\n"
     ]
    },
    {
     "name": "stdout",
     "output_type": "stream",
     "text": [
      "Datos extraídos para 1991\n"
     ]
    },
    {
     "name": "stderr",
     "output_type": "stream",
     "text": [
      "C:\\Users\\57300\\AppData\\Local\\Temp\\ipykernel_25372\\2517810379.py:13: FutureWarning: Passing literal html to 'read_html' is deprecated and will be removed in a future version. To read from a literal string, wrap it in a 'StringIO' object.\n",
      "  df = pd.read_html(str(mvp_table))[0]\n"
     ]
    },
    {
     "name": "stdout",
     "output_type": "stream",
     "text": [
      "Datos extraídos para 1992\n"
     ]
    },
    {
     "name": "stderr",
     "output_type": "stream",
     "text": [
      "C:\\Users\\57300\\AppData\\Local\\Temp\\ipykernel_25372\\2517810379.py:13: FutureWarning: Passing literal html to 'read_html' is deprecated and will be removed in a future version. To read from a literal string, wrap it in a 'StringIO' object.\n",
      "  df = pd.read_html(str(mvp_table))[0]\n"
     ]
    },
    {
     "name": "stdout",
     "output_type": "stream",
     "text": [
      "Datos extraídos para 1993\n"
     ]
    },
    {
     "name": "stderr",
     "output_type": "stream",
     "text": [
      "C:\\Users\\57300\\AppData\\Local\\Temp\\ipykernel_25372\\2517810379.py:13: FutureWarning: Passing literal html to 'read_html' is deprecated and will be removed in a future version. To read from a literal string, wrap it in a 'StringIO' object.\n",
      "  df = pd.read_html(str(mvp_table))[0]\n"
     ]
    },
    {
     "name": "stdout",
     "output_type": "stream",
     "text": [
      "Datos extraídos para 1994\n"
     ]
    },
    {
     "name": "stderr",
     "output_type": "stream",
     "text": [
      "C:\\Users\\57300\\AppData\\Local\\Temp\\ipykernel_25372\\2517810379.py:13: FutureWarning: Passing literal html to 'read_html' is deprecated and will be removed in a future version. To read from a literal string, wrap it in a 'StringIO' object.\n",
      "  df = pd.read_html(str(mvp_table))[0]\n"
     ]
    },
    {
     "name": "stdout",
     "output_type": "stream",
     "text": [
      "Datos extraídos para 1995\n"
     ]
    },
    {
     "name": "stderr",
     "output_type": "stream",
     "text": [
      "C:\\Users\\57300\\AppData\\Local\\Temp\\ipykernel_25372\\2517810379.py:13: FutureWarning: Passing literal html to 'read_html' is deprecated and will be removed in a future version. To read from a literal string, wrap it in a 'StringIO' object.\n",
      "  df = pd.read_html(str(mvp_table))[0]\n"
     ]
    },
    {
     "name": "stdout",
     "output_type": "stream",
     "text": [
      "Datos extraídos para 1996\n"
     ]
    },
    {
     "name": "stderr",
     "output_type": "stream",
     "text": [
      "C:\\Users\\57300\\AppData\\Local\\Temp\\ipykernel_25372\\2517810379.py:13: FutureWarning: Passing literal html to 'read_html' is deprecated and will be removed in a future version. To read from a literal string, wrap it in a 'StringIO' object.\n",
      "  df = pd.read_html(str(mvp_table))[0]\n"
     ]
    },
    {
     "name": "stdout",
     "output_type": "stream",
     "text": [
      "Datos extraídos para 1997\n"
     ]
    },
    {
     "name": "stderr",
     "output_type": "stream",
     "text": [
      "C:\\Users\\57300\\AppData\\Local\\Temp\\ipykernel_25372\\2517810379.py:13: FutureWarning: Passing literal html to 'read_html' is deprecated and will be removed in a future version. To read from a literal string, wrap it in a 'StringIO' object.\n",
      "  df = pd.read_html(str(mvp_table))[0]\n"
     ]
    },
    {
     "name": "stdout",
     "output_type": "stream",
     "text": [
      "Datos extraídos para 1998\n"
     ]
    },
    {
     "name": "stderr",
     "output_type": "stream",
     "text": [
      "C:\\Users\\57300\\AppData\\Local\\Temp\\ipykernel_25372\\2517810379.py:13: FutureWarning: Passing literal html to 'read_html' is deprecated and will be removed in a future version. To read from a literal string, wrap it in a 'StringIO' object.\n",
      "  df = pd.read_html(str(mvp_table))[0]\n"
     ]
    },
    {
     "name": "stdout",
     "output_type": "stream",
     "text": [
      "Datos extraídos para 1999\n"
     ]
    },
    {
     "name": "stderr",
     "output_type": "stream",
     "text": [
      "C:\\Users\\57300\\AppData\\Local\\Temp\\ipykernel_25372\\2517810379.py:13: FutureWarning: Passing literal html to 'read_html' is deprecated and will be removed in a future version. To read from a literal string, wrap it in a 'StringIO' object.\n",
      "  df = pd.read_html(str(mvp_table))[0]\n"
     ]
    },
    {
     "name": "stdout",
     "output_type": "stream",
     "text": [
      "Datos extraídos para 2000\n"
     ]
    },
    {
     "name": "stderr",
     "output_type": "stream",
     "text": [
      "C:\\Users\\57300\\AppData\\Local\\Temp\\ipykernel_25372\\2517810379.py:13: FutureWarning: Passing literal html to 'read_html' is deprecated and will be removed in a future version. To read from a literal string, wrap it in a 'StringIO' object.\n",
      "  df = pd.read_html(str(mvp_table))[0]\n"
     ]
    },
    {
     "name": "stdout",
     "output_type": "stream",
     "text": [
      "Datos extraídos para 2001\n"
     ]
    },
    {
     "name": "stderr",
     "output_type": "stream",
     "text": [
      "C:\\Users\\57300\\AppData\\Local\\Temp\\ipykernel_25372\\2517810379.py:13: FutureWarning: Passing literal html to 'read_html' is deprecated and will be removed in a future version. To read from a literal string, wrap it in a 'StringIO' object.\n",
      "  df = pd.read_html(str(mvp_table))[0]\n"
     ]
    },
    {
     "name": "stdout",
     "output_type": "stream",
     "text": [
      "Datos extraídos para 2002\n"
     ]
    },
    {
     "name": "stderr",
     "output_type": "stream",
     "text": [
      "C:\\Users\\57300\\AppData\\Local\\Temp\\ipykernel_25372\\2517810379.py:13: FutureWarning: Passing literal html to 'read_html' is deprecated and will be removed in a future version. To read from a literal string, wrap it in a 'StringIO' object.\n",
      "  df = pd.read_html(str(mvp_table))[0]\n"
     ]
    },
    {
     "name": "stdout",
     "output_type": "stream",
     "text": [
      "Datos extraídos para 2003\n"
     ]
    },
    {
     "name": "stderr",
     "output_type": "stream",
     "text": [
      "C:\\Users\\57300\\AppData\\Local\\Temp\\ipykernel_25372\\2517810379.py:13: FutureWarning: Passing literal html to 'read_html' is deprecated and will be removed in a future version. To read from a literal string, wrap it in a 'StringIO' object.\n",
      "  df = pd.read_html(str(mvp_table))[0]\n"
     ]
    },
    {
     "name": "stdout",
     "output_type": "stream",
     "text": [
      "Datos extraídos para 2004\n"
     ]
    },
    {
     "name": "stderr",
     "output_type": "stream",
     "text": [
      "C:\\Users\\57300\\AppData\\Local\\Temp\\ipykernel_25372\\2517810379.py:13: FutureWarning: Passing literal html to 'read_html' is deprecated and will be removed in a future version. To read from a literal string, wrap it in a 'StringIO' object.\n",
      "  df = pd.read_html(str(mvp_table))[0]\n"
     ]
    },
    {
     "name": "stdout",
     "output_type": "stream",
     "text": [
      "Datos extraídos para 2005\n"
     ]
    },
    {
     "name": "stderr",
     "output_type": "stream",
     "text": [
      "C:\\Users\\57300\\AppData\\Local\\Temp\\ipykernel_25372\\2517810379.py:13: FutureWarning: Passing literal html to 'read_html' is deprecated and will be removed in a future version. To read from a literal string, wrap it in a 'StringIO' object.\n",
      "  df = pd.read_html(str(mvp_table))[0]\n"
     ]
    },
    {
     "name": "stdout",
     "output_type": "stream",
     "text": [
      "Datos extraídos para 2006\n"
     ]
    },
    {
     "name": "stderr",
     "output_type": "stream",
     "text": [
      "C:\\Users\\57300\\AppData\\Local\\Temp\\ipykernel_25372\\2517810379.py:13: FutureWarning: Passing literal html to 'read_html' is deprecated and will be removed in a future version. To read from a literal string, wrap it in a 'StringIO' object.\n",
      "  df = pd.read_html(str(mvp_table))[0]\n"
     ]
    },
    {
     "name": "stdout",
     "output_type": "stream",
     "text": [
      "Datos extraídos para 2007\n"
     ]
    },
    {
     "name": "stderr",
     "output_type": "stream",
     "text": [
      "C:\\Users\\57300\\AppData\\Local\\Temp\\ipykernel_25372\\2517810379.py:13: FutureWarning: Passing literal html to 'read_html' is deprecated and will be removed in a future version. To read from a literal string, wrap it in a 'StringIO' object.\n",
      "  df = pd.read_html(str(mvp_table))[0]\n"
     ]
    },
    {
     "name": "stdout",
     "output_type": "stream",
     "text": [
      "Datos extraídos para 2008\n"
     ]
    },
    {
     "name": "stderr",
     "output_type": "stream",
     "text": [
      "C:\\Users\\57300\\AppData\\Local\\Temp\\ipykernel_25372\\2517810379.py:13: FutureWarning: Passing literal html to 'read_html' is deprecated and will be removed in a future version. To read from a literal string, wrap it in a 'StringIO' object.\n",
      "  df = pd.read_html(str(mvp_table))[0]\n"
     ]
    },
    {
     "name": "stdout",
     "output_type": "stream",
     "text": [
      "Datos extraídos para 2009\n"
     ]
    },
    {
     "name": "stderr",
     "output_type": "stream",
     "text": [
      "C:\\Users\\57300\\AppData\\Local\\Temp\\ipykernel_25372\\2517810379.py:13: FutureWarning: Passing literal html to 'read_html' is deprecated and will be removed in a future version. To read from a literal string, wrap it in a 'StringIO' object.\n",
      "  df = pd.read_html(str(mvp_table))[0]\n"
     ]
    },
    {
     "name": "stdout",
     "output_type": "stream",
     "text": [
      "Datos extraídos para 2010\n"
     ]
    },
    {
     "name": "stderr",
     "output_type": "stream",
     "text": [
      "C:\\Users\\57300\\AppData\\Local\\Temp\\ipykernel_25372\\2517810379.py:13: FutureWarning: Passing literal html to 'read_html' is deprecated and will be removed in a future version. To read from a literal string, wrap it in a 'StringIO' object.\n",
      "  df = pd.read_html(str(mvp_table))[0]\n"
     ]
    },
    {
     "name": "stdout",
     "output_type": "stream",
     "text": [
      "Datos extraídos para 2011\n"
     ]
    },
    {
     "name": "stderr",
     "output_type": "stream",
     "text": [
      "C:\\Users\\57300\\AppData\\Local\\Temp\\ipykernel_25372\\2517810379.py:13: FutureWarning: Passing literal html to 'read_html' is deprecated and will be removed in a future version. To read from a literal string, wrap it in a 'StringIO' object.\n",
      "  df = pd.read_html(str(mvp_table))[0]\n"
     ]
    },
    {
     "name": "stdout",
     "output_type": "stream",
     "text": [
      "Datos extraídos para 2012\n"
     ]
    },
    {
     "name": "stderr",
     "output_type": "stream",
     "text": [
      "C:\\Users\\57300\\AppData\\Local\\Temp\\ipykernel_25372\\2517810379.py:13: FutureWarning: Passing literal html to 'read_html' is deprecated and will be removed in a future version. To read from a literal string, wrap it in a 'StringIO' object.\n",
      "  df = pd.read_html(str(mvp_table))[0]\n"
     ]
    },
    {
     "name": "stdout",
     "output_type": "stream",
     "text": [
      "Datos extraídos para 2013\n"
     ]
    },
    {
     "name": "stderr",
     "output_type": "stream",
     "text": [
      "C:\\Users\\57300\\AppData\\Local\\Temp\\ipykernel_25372\\2517810379.py:13: FutureWarning: Passing literal html to 'read_html' is deprecated and will be removed in a future version. To read from a literal string, wrap it in a 'StringIO' object.\n",
      "  df = pd.read_html(str(mvp_table))[0]\n"
     ]
    },
    {
     "name": "stdout",
     "output_type": "stream",
     "text": [
      "Datos extraídos para 2014\n"
     ]
    },
    {
     "name": "stderr",
     "output_type": "stream",
     "text": [
      "C:\\Users\\57300\\AppData\\Local\\Temp\\ipykernel_25372\\2517810379.py:13: FutureWarning: Passing literal html to 'read_html' is deprecated and will be removed in a future version. To read from a literal string, wrap it in a 'StringIO' object.\n",
      "  df = pd.read_html(str(mvp_table))[0]\n"
     ]
    },
    {
     "name": "stdout",
     "output_type": "stream",
     "text": [
      "Datos extraídos para 2015\n"
     ]
    },
    {
     "name": "stderr",
     "output_type": "stream",
     "text": [
      "C:\\Users\\57300\\AppData\\Local\\Temp\\ipykernel_25372\\2517810379.py:13: FutureWarning: Passing literal html to 'read_html' is deprecated and will be removed in a future version. To read from a literal string, wrap it in a 'StringIO' object.\n",
      "  df = pd.read_html(str(mvp_table))[0]\n"
     ]
    },
    {
     "name": "stdout",
     "output_type": "stream",
     "text": [
      "Datos extraídos para 2016\n"
     ]
    },
    {
     "name": "stderr",
     "output_type": "stream",
     "text": [
      "C:\\Users\\57300\\AppData\\Local\\Temp\\ipykernel_25372\\2517810379.py:13: FutureWarning: Passing literal html to 'read_html' is deprecated and will be removed in a future version. To read from a literal string, wrap it in a 'StringIO' object.\n",
      "  df = pd.read_html(str(mvp_table))[0]\n"
     ]
    },
    {
     "name": "stdout",
     "output_type": "stream",
     "text": [
      "Datos extraídos para 2017\n"
     ]
    },
    {
     "name": "stderr",
     "output_type": "stream",
     "text": [
      "C:\\Users\\57300\\AppData\\Local\\Temp\\ipykernel_25372\\2517810379.py:13: FutureWarning: Passing literal html to 'read_html' is deprecated and will be removed in a future version. To read from a literal string, wrap it in a 'StringIO' object.\n",
      "  df = pd.read_html(str(mvp_table))[0]\n"
     ]
    },
    {
     "name": "stdout",
     "output_type": "stream",
     "text": [
      "Datos extraídos para 2018\n"
     ]
    },
    {
     "name": "stderr",
     "output_type": "stream",
     "text": [
      "C:\\Users\\57300\\AppData\\Local\\Temp\\ipykernel_25372\\2517810379.py:13: FutureWarning: Passing literal html to 'read_html' is deprecated and will be removed in a future version. To read from a literal string, wrap it in a 'StringIO' object.\n",
      "  df = pd.read_html(str(mvp_table))[0]\n"
     ]
    },
    {
     "name": "stdout",
     "output_type": "stream",
     "text": [
      "Datos extraídos para 2019\n"
     ]
    },
    {
     "name": "stderr",
     "output_type": "stream",
     "text": [
      "C:\\Users\\57300\\AppData\\Local\\Temp\\ipykernel_25372\\2517810379.py:13: FutureWarning: Passing literal html to 'read_html' is deprecated and will be removed in a future version. To read from a literal string, wrap it in a 'StringIO' object.\n",
      "  df = pd.read_html(str(mvp_table))[0]\n"
     ]
    },
    {
     "name": "stdout",
     "output_type": "stream",
     "text": [
      "Datos extraídos para 2020\n"
     ]
    },
    {
     "name": "stderr",
     "output_type": "stream",
     "text": [
      "C:\\Users\\57300\\AppData\\Local\\Temp\\ipykernel_25372\\2517810379.py:13: FutureWarning: Passing literal html to 'read_html' is deprecated and will be removed in a future version. To read from a literal string, wrap it in a 'StringIO' object.\n",
      "  df = pd.read_html(str(mvp_table))[0]\n"
     ]
    },
    {
     "name": "stdout",
     "output_type": "stream",
     "text": [
      "Datos extraídos para 2021\n"
     ]
    },
    {
     "name": "stderr",
     "output_type": "stream",
     "text": [
      "C:\\Users\\57300\\AppData\\Local\\Temp\\ipykernel_25372\\2517810379.py:13: FutureWarning: Passing literal html to 'read_html' is deprecated and will be removed in a future version. To read from a literal string, wrap it in a 'StringIO' object.\n",
      "  df = pd.read_html(str(mvp_table))[0]\n"
     ]
    },
    {
     "name": "stdout",
     "output_type": "stream",
     "text": [
      "Datos extraídos para 2022\n"
     ]
    },
    {
     "name": "stderr",
     "output_type": "stream",
     "text": [
      "C:\\Users\\57300\\AppData\\Local\\Temp\\ipykernel_25372\\2517810379.py:13: FutureWarning: Passing literal html to 'read_html' is deprecated and will be removed in a future version. To read from a literal string, wrap it in a 'StringIO' object.\n",
      "  df = pd.read_html(str(mvp_table))[0]\n"
     ]
    },
    {
     "name": "stdout",
     "output_type": "stream",
     "text": [
      "Datos extraídos para 2023\n"
     ]
    }
   ],
   "source": [
    "players_stats='https://www.basketball-reference.com/leagues/NBA_{}_per_game.html'\n",
    "headers = {\n",
    "    \"User-Agent\": \"Mozilla/5.0 (Windows NT 10.0; Win64; x64) AppleWebKit/537.36 (KHTML, like Gecko) Chrome/90.0.4430.212 Safari/537.36\"\n",
    "}\n",
    "all_data = []\n",
    "for year in years:\n",
    "    url=players_stats.format(year)\n",
    "    response = requests.get(url, headers=headers)\n",
    "    soup = BeautifulSoup(response.content, 'html.parser')   \n",
    "    mvp_table = soup.find('table', id='per_game_stats')\n",
    "    df=pd.DataFrame()\n",
    "    if mvp_table:\n",
    "        df = pd.read_html(str(mvp_table))[0]\n",
    "        df['Year'] = year\n",
    "        df = df.iloc[:-1]\n",
    "        all_data.append(df)\n",
    "        print(f\"data for {year}\")\n",
    "    else:\n",
    "        print(f\"no table found for {year}\")\n",
    "    time.sleep(2)\n",
    "\n",
    "players_stats_df = pd.concat(all_data, ignore_index=True)\n"
   ]
  },
  {
   "cell_type": "code",
   "execution_count": 34,
   "id": "2016ed8e",
   "metadata": {},
   "outputs": [
    {
     "name": "stdout",
     "output_type": "stream",
     "text": [
      "(19336, 32)\n"
     ]
    },
    {
     "data": {
      "text/plain": [
       "Index(['Rk', 'Player', 'Age', 'Team', 'Pos', 'G', 'GS', 'MP', 'FG', 'FGA',\n",
       "       'FG%', '3P', '3PA', '3P%', '2P', '2PA', '2P%', 'eFG%', 'FT', 'FTA',\n",
       "       'FT%', 'ORB', 'DRB', 'TRB', 'AST', 'STL', 'BLK', 'TOV', 'PF', 'PTS',\n",
       "       'Awards', 'Year'],\n",
       "      dtype='object')"
      ]
     },
     "execution_count": 34,
     "metadata": {},
     "output_type": "execute_result"
    }
   ],
   "source": [
    "print(players_stats_df.shape)\n",
    "players_stats_df.columns"
   ]
  },
  {
   "cell_type": "code",
   "execution_count": 35,
   "id": "dca2bd93",
   "metadata": {},
   "outputs": [],
   "source": [
    "players_stats_df.to_csv('data/players_stats.csv', index=False)"
   ]
  },
  {
   "cell_type": "markdown",
   "id": "46f4b5ef",
   "metadata": {},
   "source": [
    "## Getting team stats by season"
   ]
  },
  {
   "cell_type": "code",
   "execution_count": null,
   "id": "3e896e28",
   "metadata": {},
   "outputs": [
    {
     "name": "stderr",
     "output_type": "stream",
     "text": [
      "C:\\Users\\57300\\AppData\\Local\\Temp\\ipykernel_25372\\358020138.py:14: FutureWarning: Passing literal html to 'read_html' is deprecated and will be removed in a future version. To read from a literal string, wrap it in a 'StringIO' object.\n",
      "  team = pd.read_html(str(team_table))[0]\n",
      "C:\\Users\\57300\\AppData\\Local\\Temp\\ipykernel_25372\\358020138.py:25: FutureWarning: Passing literal html to 'read_html' is deprecated and will be removed in a future version. To read from a literal string, wrap it in a 'StringIO' object.\n",
      "  teamW = pd.read_html(str(team_table_w))[0]\n",
      "C:\\Users\\57300\\AppData\\Local\\Temp\\ipykernel_25372\\358020138.py:14: FutureWarning: Passing literal html to 'read_html' is deprecated and will be removed in a future version. To read from a literal string, wrap it in a 'StringIO' object.\n",
      "  team = pd.read_html(str(team_table))[0]\n",
      "C:\\Users\\57300\\AppData\\Local\\Temp\\ipykernel_25372\\358020138.py:25: FutureWarning: Passing literal html to 'read_html' is deprecated and will be removed in a future version. To read from a literal string, wrap it in a 'StringIO' object.\n",
      "  teamW = pd.read_html(str(team_table_w))[0]\n",
      "C:\\Users\\57300\\AppData\\Local\\Temp\\ipykernel_25372\\358020138.py:14: FutureWarning: Passing literal html to 'read_html' is deprecated and will be removed in a future version. To read from a literal string, wrap it in a 'StringIO' object.\n",
      "  team = pd.read_html(str(team_table))[0]\n",
      "C:\\Users\\57300\\AppData\\Local\\Temp\\ipykernel_25372\\358020138.py:25: FutureWarning: Passing literal html to 'read_html' is deprecated and will be removed in a future version. To read from a literal string, wrap it in a 'StringIO' object.\n",
      "  teamW = pd.read_html(str(team_table_w))[0]\n",
      "C:\\Users\\57300\\AppData\\Local\\Temp\\ipykernel_25372\\358020138.py:14: FutureWarning: Passing literal html to 'read_html' is deprecated and will be removed in a future version. To read from a literal string, wrap it in a 'StringIO' object.\n",
      "  team = pd.read_html(str(team_table))[0]\n",
      "C:\\Users\\57300\\AppData\\Local\\Temp\\ipykernel_25372\\358020138.py:25: FutureWarning: Passing literal html to 'read_html' is deprecated and will be removed in a future version. To read from a literal string, wrap it in a 'StringIO' object.\n",
      "  teamW = pd.read_html(str(team_table_w))[0]\n",
      "C:\\Users\\57300\\AppData\\Local\\Temp\\ipykernel_25372\\358020138.py:14: FutureWarning: Passing literal html to 'read_html' is deprecated and will be removed in a future version. To read from a literal string, wrap it in a 'StringIO' object.\n",
      "  team = pd.read_html(str(team_table))[0]\n",
      "C:\\Users\\57300\\AppData\\Local\\Temp\\ipykernel_25372\\358020138.py:25: FutureWarning: Passing literal html to 'read_html' is deprecated and will be removed in a future version. To read from a literal string, wrap it in a 'StringIO' object.\n",
      "  teamW = pd.read_html(str(team_table_w))[0]\n",
      "C:\\Users\\57300\\AppData\\Local\\Temp\\ipykernel_25372\\358020138.py:14: FutureWarning: Passing literal html to 'read_html' is deprecated and will be removed in a future version. To read from a literal string, wrap it in a 'StringIO' object.\n",
      "  team = pd.read_html(str(team_table))[0]\n",
      "C:\\Users\\57300\\AppData\\Local\\Temp\\ipykernel_25372\\358020138.py:25: FutureWarning: Passing literal html to 'read_html' is deprecated and will be removed in a future version. To read from a literal string, wrap it in a 'StringIO' object.\n",
      "  teamW = pd.read_html(str(team_table_w))[0]\n",
      "C:\\Users\\57300\\AppData\\Local\\Temp\\ipykernel_25372\\358020138.py:14: FutureWarning: Passing literal html to 'read_html' is deprecated and will be removed in a future version. To read from a literal string, wrap it in a 'StringIO' object.\n",
      "  team = pd.read_html(str(team_table))[0]\n",
      "C:\\Users\\57300\\AppData\\Local\\Temp\\ipykernel_25372\\358020138.py:25: FutureWarning: Passing literal html to 'read_html' is deprecated and will be removed in a future version. To read from a literal string, wrap it in a 'StringIO' object.\n",
      "  teamW = pd.read_html(str(team_table_w))[0]\n",
      "C:\\Users\\57300\\AppData\\Local\\Temp\\ipykernel_25372\\358020138.py:14: FutureWarning: Passing literal html to 'read_html' is deprecated and will be removed in a future version. To read from a literal string, wrap it in a 'StringIO' object.\n",
      "  team = pd.read_html(str(team_table))[0]\n",
      "C:\\Users\\57300\\AppData\\Local\\Temp\\ipykernel_25372\\358020138.py:25: FutureWarning: Passing literal html to 'read_html' is deprecated and will be removed in a future version. To read from a literal string, wrap it in a 'StringIO' object.\n",
      "  teamW = pd.read_html(str(team_table_w))[0]\n",
      "C:\\Users\\57300\\AppData\\Local\\Temp\\ipykernel_25372\\358020138.py:14: FutureWarning: Passing literal html to 'read_html' is deprecated and will be removed in a future version. To read from a literal string, wrap it in a 'StringIO' object.\n",
      "  team = pd.read_html(str(team_table))[0]\n",
      "C:\\Users\\57300\\AppData\\Local\\Temp\\ipykernel_25372\\358020138.py:25: FutureWarning: Passing literal html to 'read_html' is deprecated and will be removed in a future version. To read from a literal string, wrap it in a 'StringIO' object.\n",
      "  teamW = pd.read_html(str(team_table_w))[0]\n",
      "C:\\Users\\57300\\AppData\\Local\\Temp\\ipykernel_25372\\358020138.py:14: FutureWarning: Passing literal html to 'read_html' is deprecated and will be removed in a future version. To read from a literal string, wrap it in a 'StringIO' object.\n",
      "  team = pd.read_html(str(team_table))[0]\n",
      "C:\\Users\\57300\\AppData\\Local\\Temp\\ipykernel_25372\\358020138.py:25: FutureWarning: Passing literal html to 'read_html' is deprecated and will be removed in a future version. To read from a literal string, wrap it in a 'StringIO' object.\n",
      "  teamW = pd.read_html(str(team_table_w))[0]\n",
      "C:\\Users\\57300\\AppData\\Local\\Temp\\ipykernel_25372\\358020138.py:14: FutureWarning: Passing literal html to 'read_html' is deprecated and will be removed in a future version. To read from a literal string, wrap it in a 'StringIO' object.\n",
      "  team = pd.read_html(str(team_table))[0]\n",
      "C:\\Users\\57300\\AppData\\Local\\Temp\\ipykernel_25372\\358020138.py:25: FutureWarning: Passing literal html to 'read_html' is deprecated and will be removed in a future version. To read from a literal string, wrap it in a 'StringIO' object.\n",
      "  teamW = pd.read_html(str(team_table_w))[0]\n",
      "C:\\Users\\57300\\AppData\\Local\\Temp\\ipykernel_25372\\358020138.py:14: FutureWarning: Passing literal html to 'read_html' is deprecated and will be removed in a future version. To read from a literal string, wrap it in a 'StringIO' object.\n",
      "  team = pd.read_html(str(team_table))[0]\n",
      "C:\\Users\\57300\\AppData\\Local\\Temp\\ipykernel_25372\\358020138.py:25: FutureWarning: Passing literal html to 'read_html' is deprecated and will be removed in a future version. To read from a literal string, wrap it in a 'StringIO' object.\n",
      "  teamW = pd.read_html(str(team_table_w))[0]\n",
      "C:\\Users\\57300\\AppData\\Local\\Temp\\ipykernel_25372\\358020138.py:14: FutureWarning: Passing literal html to 'read_html' is deprecated and will be removed in a future version. To read from a literal string, wrap it in a 'StringIO' object.\n",
      "  team = pd.read_html(str(team_table))[0]\n",
      "C:\\Users\\57300\\AppData\\Local\\Temp\\ipykernel_25372\\358020138.py:25: FutureWarning: Passing literal html to 'read_html' is deprecated and will be removed in a future version. To read from a literal string, wrap it in a 'StringIO' object.\n",
      "  teamW = pd.read_html(str(team_table_w))[0]\n",
      "C:\\Users\\57300\\AppData\\Local\\Temp\\ipykernel_25372\\358020138.py:14: FutureWarning: Passing literal html to 'read_html' is deprecated and will be removed in a future version. To read from a literal string, wrap it in a 'StringIO' object.\n",
      "  team = pd.read_html(str(team_table))[0]\n",
      "C:\\Users\\57300\\AppData\\Local\\Temp\\ipykernel_25372\\358020138.py:25: FutureWarning: Passing literal html to 'read_html' is deprecated and will be removed in a future version. To read from a literal string, wrap it in a 'StringIO' object.\n",
      "  teamW = pd.read_html(str(team_table_w))[0]\n",
      "C:\\Users\\57300\\AppData\\Local\\Temp\\ipykernel_25372\\358020138.py:14: FutureWarning: Passing literal html to 'read_html' is deprecated and will be removed in a future version. To read from a literal string, wrap it in a 'StringIO' object.\n",
      "  team = pd.read_html(str(team_table))[0]\n",
      "C:\\Users\\57300\\AppData\\Local\\Temp\\ipykernel_25372\\358020138.py:25: FutureWarning: Passing literal html to 'read_html' is deprecated and will be removed in a future version. To read from a literal string, wrap it in a 'StringIO' object.\n",
      "  teamW = pd.read_html(str(team_table_w))[0]\n",
      "C:\\Users\\57300\\AppData\\Local\\Temp\\ipykernel_25372\\358020138.py:14: FutureWarning: Passing literal html to 'read_html' is deprecated and will be removed in a future version. To read from a literal string, wrap it in a 'StringIO' object.\n",
      "  team = pd.read_html(str(team_table))[0]\n",
      "C:\\Users\\57300\\AppData\\Local\\Temp\\ipykernel_25372\\358020138.py:25: FutureWarning: Passing literal html to 'read_html' is deprecated and will be removed in a future version. To read from a literal string, wrap it in a 'StringIO' object.\n",
      "  teamW = pd.read_html(str(team_table_w))[0]\n",
      "C:\\Users\\57300\\AppData\\Local\\Temp\\ipykernel_25372\\358020138.py:14: FutureWarning: Passing literal html to 'read_html' is deprecated and will be removed in a future version. To read from a literal string, wrap it in a 'StringIO' object.\n",
      "  team = pd.read_html(str(team_table))[0]\n",
      "C:\\Users\\57300\\AppData\\Local\\Temp\\ipykernel_25372\\358020138.py:25: FutureWarning: Passing literal html to 'read_html' is deprecated and will be removed in a future version. To read from a literal string, wrap it in a 'StringIO' object.\n",
      "  teamW = pd.read_html(str(team_table_w))[0]\n",
      "C:\\Users\\57300\\AppData\\Local\\Temp\\ipykernel_25372\\358020138.py:14: FutureWarning: Passing literal html to 'read_html' is deprecated and will be removed in a future version. To read from a literal string, wrap it in a 'StringIO' object.\n",
      "  team = pd.read_html(str(team_table))[0]\n",
      "C:\\Users\\57300\\AppData\\Local\\Temp\\ipykernel_25372\\358020138.py:25: FutureWarning: Passing literal html to 'read_html' is deprecated and will be removed in a future version. To read from a literal string, wrap it in a 'StringIO' object.\n",
      "  teamW = pd.read_html(str(team_table_w))[0]\n",
      "C:\\Users\\57300\\AppData\\Local\\Temp\\ipykernel_25372\\358020138.py:14: FutureWarning: Passing literal html to 'read_html' is deprecated and will be removed in a future version. To read from a literal string, wrap it in a 'StringIO' object.\n",
      "  team = pd.read_html(str(team_table))[0]\n",
      "C:\\Users\\57300\\AppData\\Local\\Temp\\ipykernel_25372\\358020138.py:25: FutureWarning: Passing literal html to 'read_html' is deprecated and will be removed in a future version. To read from a literal string, wrap it in a 'StringIO' object.\n",
      "  teamW = pd.read_html(str(team_table_w))[0]\n",
      "C:\\Users\\57300\\AppData\\Local\\Temp\\ipykernel_25372\\358020138.py:14: FutureWarning: Passing literal html to 'read_html' is deprecated and will be removed in a future version. To read from a literal string, wrap it in a 'StringIO' object.\n",
      "  team = pd.read_html(str(team_table))[0]\n",
      "C:\\Users\\57300\\AppData\\Local\\Temp\\ipykernel_25372\\358020138.py:25: FutureWarning: Passing literal html to 'read_html' is deprecated and will be removed in a future version. To read from a literal string, wrap it in a 'StringIO' object.\n",
      "  teamW = pd.read_html(str(team_table_w))[0]\n",
      "C:\\Users\\57300\\AppData\\Local\\Temp\\ipykernel_25372\\358020138.py:14: FutureWarning: Passing literal html to 'read_html' is deprecated and will be removed in a future version. To read from a literal string, wrap it in a 'StringIO' object.\n",
      "  team = pd.read_html(str(team_table))[0]\n",
      "C:\\Users\\57300\\AppData\\Local\\Temp\\ipykernel_25372\\358020138.py:25: FutureWarning: Passing literal html to 'read_html' is deprecated and will be removed in a future version. To read from a literal string, wrap it in a 'StringIO' object.\n",
      "  teamW = pd.read_html(str(team_table_w))[0]\n",
      "C:\\Users\\57300\\AppData\\Local\\Temp\\ipykernel_25372\\358020138.py:14: FutureWarning: Passing literal html to 'read_html' is deprecated and will be removed in a future version. To read from a literal string, wrap it in a 'StringIO' object.\n",
      "  team = pd.read_html(str(team_table))[0]\n",
      "C:\\Users\\57300\\AppData\\Local\\Temp\\ipykernel_25372\\358020138.py:25: FutureWarning: Passing literal html to 'read_html' is deprecated and will be removed in a future version. To read from a literal string, wrap it in a 'StringIO' object.\n",
      "  teamW = pd.read_html(str(team_table_w))[0]\n",
      "C:\\Users\\57300\\AppData\\Local\\Temp\\ipykernel_25372\\358020138.py:14: FutureWarning: Passing literal html to 'read_html' is deprecated and will be removed in a future version. To read from a literal string, wrap it in a 'StringIO' object.\n",
      "  team = pd.read_html(str(team_table))[0]\n",
      "C:\\Users\\57300\\AppData\\Local\\Temp\\ipykernel_25372\\358020138.py:25: FutureWarning: Passing literal html to 'read_html' is deprecated and will be removed in a future version. To read from a literal string, wrap it in a 'StringIO' object.\n",
      "  teamW = pd.read_html(str(team_table_w))[0]\n",
      "C:\\Users\\57300\\AppData\\Local\\Temp\\ipykernel_25372\\358020138.py:14: FutureWarning: Passing literal html to 'read_html' is deprecated and will be removed in a future version. To read from a literal string, wrap it in a 'StringIO' object.\n",
      "  team = pd.read_html(str(team_table))[0]\n",
      "C:\\Users\\57300\\AppData\\Local\\Temp\\ipykernel_25372\\358020138.py:25: FutureWarning: Passing literal html to 'read_html' is deprecated and will be removed in a future version. To read from a literal string, wrap it in a 'StringIO' object.\n",
      "  teamW = pd.read_html(str(team_table_w))[0]\n",
      "C:\\Users\\57300\\AppData\\Local\\Temp\\ipykernel_25372\\358020138.py:14: FutureWarning: Passing literal html to 'read_html' is deprecated and will be removed in a future version. To read from a literal string, wrap it in a 'StringIO' object.\n",
      "  team = pd.read_html(str(team_table))[0]\n",
      "C:\\Users\\57300\\AppData\\Local\\Temp\\ipykernel_25372\\358020138.py:25: FutureWarning: Passing literal html to 'read_html' is deprecated and will be removed in a future version. To read from a literal string, wrap it in a 'StringIO' object.\n",
      "  teamW = pd.read_html(str(team_table_w))[0]\n",
      "C:\\Users\\57300\\AppData\\Local\\Temp\\ipykernel_25372\\358020138.py:14: FutureWarning: Passing literal html to 'read_html' is deprecated and will be removed in a future version. To read from a literal string, wrap it in a 'StringIO' object.\n",
      "  team = pd.read_html(str(team_table))[0]\n",
      "C:\\Users\\57300\\AppData\\Local\\Temp\\ipykernel_25372\\358020138.py:25: FutureWarning: Passing literal html to 'read_html' is deprecated and will be removed in a future version. To read from a literal string, wrap it in a 'StringIO' object.\n",
      "  teamW = pd.read_html(str(team_table_w))[0]\n",
      "C:\\Users\\57300\\AppData\\Local\\Temp\\ipykernel_25372\\358020138.py:14: FutureWarning: Passing literal html to 'read_html' is deprecated and will be removed in a future version. To read from a literal string, wrap it in a 'StringIO' object.\n",
      "  team = pd.read_html(str(team_table))[0]\n",
      "C:\\Users\\57300\\AppData\\Local\\Temp\\ipykernel_25372\\358020138.py:25: FutureWarning: Passing literal html to 'read_html' is deprecated and will be removed in a future version. To read from a literal string, wrap it in a 'StringIO' object.\n",
      "  teamW = pd.read_html(str(team_table_w))[0]\n",
      "C:\\Users\\57300\\AppData\\Local\\Temp\\ipykernel_25372\\358020138.py:14: FutureWarning: Passing literal html to 'read_html' is deprecated and will be removed in a future version. To read from a literal string, wrap it in a 'StringIO' object.\n",
      "  team = pd.read_html(str(team_table))[0]\n",
      "C:\\Users\\57300\\AppData\\Local\\Temp\\ipykernel_25372\\358020138.py:25: FutureWarning: Passing literal html to 'read_html' is deprecated and will be removed in a future version. To read from a literal string, wrap it in a 'StringIO' object.\n",
      "  teamW = pd.read_html(str(team_table_w))[0]\n",
      "C:\\Users\\57300\\AppData\\Local\\Temp\\ipykernel_25372\\358020138.py:14: FutureWarning: Passing literal html to 'read_html' is deprecated and will be removed in a future version. To read from a literal string, wrap it in a 'StringIO' object.\n",
      "  team = pd.read_html(str(team_table))[0]\n",
      "C:\\Users\\57300\\AppData\\Local\\Temp\\ipykernel_25372\\358020138.py:25: FutureWarning: Passing literal html to 'read_html' is deprecated and will be removed in a future version. To read from a literal string, wrap it in a 'StringIO' object.\n",
      "  teamW = pd.read_html(str(team_table_w))[0]\n",
      "C:\\Users\\57300\\AppData\\Local\\Temp\\ipykernel_25372\\358020138.py:14: FutureWarning: Passing literal html to 'read_html' is deprecated and will be removed in a future version. To read from a literal string, wrap it in a 'StringIO' object.\n",
      "  team = pd.read_html(str(team_table))[0]\n",
      "C:\\Users\\57300\\AppData\\Local\\Temp\\ipykernel_25372\\358020138.py:25: FutureWarning: Passing literal html to 'read_html' is deprecated and will be removed in a future version. To read from a literal string, wrap it in a 'StringIO' object.\n",
      "  teamW = pd.read_html(str(team_table_w))[0]\n",
      "C:\\Users\\57300\\AppData\\Local\\Temp\\ipykernel_25372\\358020138.py:14: FutureWarning: Passing literal html to 'read_html' is deprecated and will be removed in a future version. To read from a literal string, wrap it in a 'StringIO' object.\n",
      "  team = pd.read_html(str(team_table))[0]\n",
      "C:\\Users\\57300\\AppData\\Local\\Temp\\ipykernel_25372\\358020138.py:25: FutureWarning: Passing literal html to 'read_html' is deprecated and will be removed in a future version. To read from a literal string, wrap it in a 'StringIO' object.\n",
      "  teamW = pd.read_html(str(team_table_w))[0]\n",
      "C:\\Users\\57300\\AppData\\Local\\Temp\\ipykernel_25372\\358020138.py:14: FutureWarning: Passing literal html to 'read_html' is deprecated and will be removed in a future version. To read from a literal string, wrap it in a 'StringIO' object.\n",
      "  team = pd.read_html(str(team_table))[0]\n",
      "C:\\Users\\57300\\AppData\\Local\\Temp\\ipykernel_25372\\358020138.py:25: FutureWarning: Passing literal html to 'read_html' is deprecated and will be removed in a future version. To read from a literal string, wrap it in a 'StringIO' object.\n",
      "  teamW = pd.read_html(str(team_table_w))[0]\n",
      "C:\\Users\\57300\\AppData\\Local\\Temp\\ipykernel_25372\\358020138.py:14: FutureWarning: Passing literal html to 'read_html' is deprecated and will be removed in a future version. To read from a literal string, wrap it in a 'StringIO' object.\n",
      "  team = pd.read_html(str(team_table))[0]\n",
      "C:\\Users\\57300\\AppData\\Local\\Temp\\ipykernel_25372\\358020138.py:25: FutureWarning: Passing literal html to 'read_html' is deprecated and will be removed in a future version. To read from a literal string, wrap it in a 'StringIO' object.\n",
      "  teamW = pd.read_html(str(team_table_w))[0]\n",
      "C:\\Users\\57300\\AppData\\Local\\Temp\\ipykernel_25372\\358020138.py:14: FutureWarning: Passing literal html to 'read_html' is deprecated and will be removed in a future version. To read from a literal string, wrap it in a 'StringIO' object.\n",
      "  team = pd.read_html(str(team_table))[0]\n",
      "C:\\Users\\57300\\AppData\\Local\\Temp\\ipykernel_25372\\358020138.py:25: FutureWarning: Passing literal html to 'read_html' is deprecated and will be removed in a future version. To read from a literal string, wrap it in a 'StringIO' object.\n",
      "  teamW = pd.read_html(str(team_table_w))[0]\n"
     ]
    }
   ],
   "source": [
    "team_stats='https://www.basketball-reference.com/leagues/NBA_{}_standings.html'\n",
    "headers = {\n",
    "    \"User-Agent\": \"Mozilla/5.0 (Windows NT 10.0; Win64; x64) AppleWebKit/537.36 (KHTML, like Gecko) Chrome/90.0.4430.212 Safari/537.36\"\n",
    "}\n",
    "all_data = []\n",
    "for year in years:\n",
    "    url=team_stats.format(year)\n",
    "    response = requests.get(url, headers=headers)\n",
    "    soup = BeautifulSoup(response.content, \"html.parser\")\n",
    "\n",
    "    team_table = soup.find('table',id=\"divs_standings_E\")\n",
    "    if team_table:\n",
    "        \n",
    "        team = pd.read_html(str(team_table))[0]\n",
    "        team[\"Year\"] = year\n",
    "        team[\"Team\"] = team[\"Eastern Conference\"]\n",
    "        del team[\"Eastern Conference\"]\n",
    "        all_data.append(team)\n",
    "    else:\n",
    "        print(\"no table found\")\n",
    "\n",
    "    team_table_w = soup.find('table',id=\"divs_standings_W\")\n",
    "    if team_table_w:\n",
    "    \n",
    "        teamW = pd.read_html(str(team_table_w))[0]\n",
    "        teamW[\"Year\"] = year\n",
    "        teamW[\"Team\"] = teamW[\"Western Conference\"]\n",
    "        del teamW[\"Western Conference\"]\n",
    "        all_data.append(teamW)\n",
    "    else:\n",
    "        print(\"no table found\")\n",
    "    time.sleep(2)\n",
    "    \n",
    "\n"
   ]
  },
  {
   "cell_type": "code",
   "execution_count": 45,
   "id": "2b92d167",
   "metadata": {},
   "outputs": [
    {
     "name": "stdout",
     "output_type": "stream",
     "text": [
      "(1167, 9)\n"
     ]
    }
   ],
   "source": [
    "team_stats_df = pd.concat(all_data, ignore_index=True)\n",
    "print(team_stats_df.shape)"
   ]
  },
  {
   "cell_type": "code",
   "execution_count": 47,
   "id": "075944cb",
   "metadata": {},
   "outputs": [
    {
     "data": {
      "text/html": [
       "<div>\n",
       "<style scoped>\n",
       "    .dataframe tbody tr th:only-of-type {\n",
       "        vertical-align: middle;\n",
       "    }\n",
       "\n",
       "    .dataframe tbody tr th {\n",
       "        vertical-align: top;\n",
       "    }\n",
       "\n",
       "    .dataframe thead th {\n",
       "        text-align: right;\n",
       "    }\n",
       "</style>\n",
       "<table border=\"1\" class=\"dataframe\">\n",
       "  <thead>\n",
       "    <tr style=\"text-align: right;\">\n",
       "      <th></th>\n",
       "      <th>W</th>\n",
       "      <th>L</th>\n",
       "      <th>W/L%</th>\n",
       "      <th>GB</th>\n",
       "      <th>PS/G</th>\n",
       "      <th>PA/G</th>\n",
       "      <th>SRS</th>\n",
       "      <th>Year</th>\n",
       "      <th>Team</th>\n",
       "    </tr>\n",
       "  </thead>\n",
       "  <tbody>\n",
       "    <tr>\n",
       "      <th>0</th>\n",
       "      <td>Atlantic Division</td>\n",
       "      <td>Atlantic Division</td>\n",
       "      <td>Atlantic Division</td>\n",
       "      <td>Atlantic Division</td>\n",
       "      <td>Atlantic Division</td>\n",
       "      <td>Atlantic Division</td>\n",
       "      <td>Atlantic Division</td>\n",
       "      <td>1990</td>\n",
       "      <td>Atlantic Division</td>\n",
       "    </tr>\n",
       "    <tr>\n",
       "      <th>1</th>\n",
       "      <td>53</td>\n",
       "      <td>29</td>\n",
       "      <td>.646</td>\n",
       "      <td>—</td>\n",
       "      <td>110.2</td>\n",
       "      <td>105.2</td>\n",
       "      <td>4.23</td>\n",
       "      <td>1990</td>\n",
       "      <td>Philadelphia 76ers*</td>\n",
       "    </tr>\n",
       "    <tr>\n",
       "      <th>2</th>\n",
       "      <td>52</td>\n",
       "      <td>30</td>\n",
       "      <td>.634</td>\n",
       "      <td>1.0</td>\n",
       "      <td>110.0</td>\n",
       "      <td>106.0</td>\n",
       "      <td>3.23</td>\n",
       "      <td>1990</td>\n",
       "      <td>Boston Celtics*</td>\n",
       "    </tr>\n",
       "    <tr>\n",
       "      <th>3</th>\n",
       "      <td>45</td>\n",
       "      <td>37</td>\n",
       "      <td>.549</td>\n",
       "      <td>8.0</td>\n",
       "      <td>108.3</td>\n",
       "      <td>106.9</td>\n",
       "      <td>0.78</td>\n",
       "      <td>1990</td>\n",
       "      <td>New York Knicks*</td>\n",
       "    </tr>\n",
       "    <tr>\n",
       "      <th>4</th>\n",
       "      <td>31</td>\n",
       "      <td>51</td>\n",
       "      <td>.378</td>\n",
       "      <td>22.0</td>\n",
       "      <td>107.7</td>\n",
       "      <td>109.9</td>\n",
       "      <td>-2.43</td>\n",
       "      <td>1990</td>\n",
       "      <td>Washington Bullets</td>\n",
       "    </tr>\n",
       "    <tr>\n",
       "      <th>5</th>\n",
       "      <td>18</td>\n",
       "      <td>64</td>\n",
       "      <td>.220</td>\n",
       "      <td>35.0</td>\n",
       "      <td>100.6</td>\n",
       "      <td>110.3</td>\n",
       "      <td>-9.59</td>\n",
       "      <td>1990</td>\n",
       "      <td>Miami Heat</td>\n",
       "    </tr>\n",
       "    <tr>\n",
       "      <th>6</th>\n",
       "      <td>17</td>\n",
       "      <td>65</td>\n",
       "      <td>.207</td>\n",
       "      <td>36.0</td>\n",
       "      <td>100.1</td>\n",
       "      <td>108.0</td>\n",
       "      <td>-7.82</td>\n",
       "      <td>1990</td>\n",
       "      <td>New Jersey Nets</td>\n",
       "    </tr>\n",
       "    <tr>\n",
       "      <th>7</th>\n",
       "      <td>Central Division</td>\n",
       "      <td>Central Division</td>\n",
       "      <td>Central Division</td>\n",
       "      <td>Central Division</td>\n",
       "      <td>Central Division</td>\n",
       "      <td>Central Division</td>\n",
       "      <td>Central Division</td>\n",
       "      <td>1990</td>\n",
       "      <td>Central Division</td>\n",
       "    </tr>\n",
       "    <tr>\n",
       "      <th>8</th>\n",
       "      <td>59</td>\n",
       "      <td>23</td>\n",
       "      <td>.720</td>\n",
       "      <td>—</td>\n",
       "      <td>104.3</td>\n",
       "      <td>98.3</td>\n",
       "      <td>5.41</td>\n",
       "      <td>1990</td>\n",
       "      <td>Detroit Pistons*</td>\n",
       "    </tr>\n",
       "    <tr>\n",
       "      <th>9</th>\n",
       "      <td>55</td>\n",
       "      <td>27</td>\n",
       "      <td>.671</td>\n",
       "      <td>4.0</td>\n",
       "      <td>109.5</td>\n",
       "      <td>106.2</td>\n",
       "      <td>2.74</td>\n",
       "      <td>1990</td>\n",
       "      <td>Chicago Bulls*</td>\n",
       "    </tr>\n",
       "    <tr>\n",
       "      <th>10</th>\n",
       "      <td>44</td>\n",
       "      <td>38</td>\n",
       "      <td>.537</td>\n",
       "      <td>15.0</td>\n",
       "      <td>106.0</td>\n",
       "      <td>106.8</td>\n",
       "      <td>-1.06</td>\n",
       "      <td>1990</td>\n",
       "      <td>Milwaukee Bucks*</td>\n",
       "    </tr>\n",
       "    <tr>\n",
       "      <th>11</th>\n",
       "      <td>42</td>\n",
       "      <td>40</td>\n",
       "      <td>.512</td>\n",
       "      <td>17.0</td>\n",
       "      <td>102.6</td>\n",
       "      <td>102.9</td>\n",
       "      <td>-0.62</td>\n",
       "      <td>1990</td>\n",
       "      <td>Cleveland Cavaliers*</td>\n",
       "    </tr>\n",
       "    <tr>\n",
       "      <th>12</th>\n",
       "      <td>42</td>\n",
       "      <td>40</td>\n",
       "      <td>.512</td>\n",
       "      <td>17.0</td>\n",
       "      <td>109.3</td>\n",
       "      <td>109.1</td>\n",
       "      <td>-0.18</td>\n",
       "      <td>1990</td>\n",
       "      <td>Indiana Pacers*</td>\n",
       "    </tr>\n",
       "    <tr>\n",
       "      <th>13</th>\n",
       "      <td>41</td>\n",
       "      <td>41</td>\n",
       "      <td>.500</td>\n",
       "      <td>18.0</td>\n",
       "      <td>108.5</td>\n",
       "      <td>107.5</td>\n",
       "      <td>0.64</td>\n",
       "      <td>1990</td>\n",
       "      <td>Atlanta Hawks</td>\n",
       "    </tr>\n",
       "    <tr>\n",
       "      <th>14</th>\n",
       "      <td>18</td>\n",
       "      <td>64</td>\n",
       "      <td>.220</td>\n",
       "      <td>41.0</td>\n",
       "      <td>110.9</td>\n",
       "      <td>119.8</td>\n",
       "      <td>-8.73</td>\n",
       "      <td>1990</td>\n",
       "      <td>Orlando Magic</td>\n",
       "    </tr>\n",
       "    <tr>\n",
       "      <th>15</th>\n",
       "      <td>Midwest Division</td>\n",
       "      <td>Midwest Division</td>\n",
       "      <td>Midwest Division</td>\n",
       "      <td>Midwest Division</td>\n",
       "      <td>Midwest Division</td>\n",
       "      <td>Midwest Division</td>\n",
       "      <td>Midwest Division</td>\n",
       "      <td>1990</td>\n",
       "      <td>Midwest Division</td>\n",
       "    </tr>\n",
       "    <tr>\n",
       "      <th>16</th>\n",
       "      <td>56</td>\n",
       "      <td>26</td>\n",
       "      <td>.683</td>\n",
       "      <td>—</td>\n",
       "      <td>106.3</td>\n",
       "      <td>102.8</td>\n",
       "      <td>3.58</td>\n",
       "      <td>1990</td>\n",
       "      <td>San Antonio Spurs*</td>\n",
       "    </tr>\n",
       "    <tr>\n",
       "      <th>17</th>\n",
       "      <td>55</td>\n",
       "      <td>27</td>\n",
       "      <td>.671</td>\n",
       "      <td>1.0</td>\n",
       "      <td>106.8</td>\n",
       "      <td>102.0</td>\n",
       "      <td>4.82</td>\n",
       "      <td>1990</td>\n",
       "      <td>Utah Jazz*</td>\n",
       "    </tr>\n",
       "    <tr>\n",
       "      <th>18</th>\n",
       "      <td>47</td>\n",
       "      <td>35</td>\n",
       "      <td>.573</td>\n",
       "      <td>9.0</td>\n",
       "      <td>102.2</td>\n",
       "      <td>102.2</td>\n",
       "      <td>0.42</td>\n",
       "      <td>1990</td>\n",
       "      <td>Dallas Mavericks*</td>\n",
       "    </tr>\n",
       "    <tr>\n",
       "      <th>19</th>\n",
       "      <td>43</td>\n",
       "      <td>39</td>\n",
       "      <td>.524</td>\n",
       "      <td>13.0</td>\n",
       "      <td>114.6</td>\n",
       "      <td>113.2</td>\n",
       "      <td>1.56</td>\n",
       "      <td>1990</td>\n",
       "      <td>Denver Nuggets*</td>\n",
       "    </tr>\n",
       "    <tr>\n",
       "      <th>20</th>\n",
       "      <td>41</td>\n",
       "      <td>41</td>\n",
       "      <td>.500</td>\n",
       "      <td>15.0</td>\n",
       "      <td>106.7</td>\n",
       "      <td>105.3</td>\n",
       "      <td>1.71</td>\n",
       "      <td>1990</td>\n",
       "      <td>Houston Rockets*</td>\n",
       "    </tr>\n",
       "    <tr>\n",
       "      <th>21</th>\n",
       "      <td>22</td>\n",
       "      <td>60</td>\n",
       "      <td>.268</td>\n",
       "      <td>34.0</td>\n",
       "      <td>95.2</td>\n",
       "      <td>99.4</td>\n",
       "      <td>-3.60</td>\n",
       "      <td>1990</td>\n",
       "      <td>Minnesota Timberwolves</td>\n",
       "    </tr>\n",
       "    <tr>\n",
       "      <th>22</th>\n",
       "      <td>19</td>\n",
       "      <td>63</td>\n",
       "      <td>.232</td>\n",
       "      <td>37.0</td>\n",
       "      <td>100.4</td>\n",
       "      <td>108.2</td>\n",
       "      <td>-7.00</td>\n",
       "      <td>1990</td>\n",
       "      <td>Charlotte Hornets</td>\n",
       "    </tr>\n",
       "    <tr>\n",
       "      <th>23</th>\n",
       "      <td>Pacific Division</td>\n",
       "      <td>Pacific Division</td>\n",
       "      <td>Pacific Division</td>\n",
       "      <td>Pacific Division</td>\n",
       "      <td>Pacific Division</td>\n",
       "      <td>Pacific Division</td>\n",
       "      <td>Pacific Division</td>\n",
       "      <td>1990</td>\n",
       "      <td>Pacific Division</td>\n",
       "    </tr>\n",
       "    <tr>\n",
       "      <th>24</th>\n",
       "      <td>63</td>\n",
       "      <td>19</td>\n",
       "      <td>.768</td>\n",
       "      <td>—</td>\n",
       "      <td>110.7</td>\n",
       "      <td>103.9</td>\n",
       "      <td>6.74</td>\n",
       "      <td>1990</td>\n",
       "      <td>Los Angeles Lakers*</td>\n",
       "    </tr>\n",
       "    <tr>\n",
       "      <th>25</th>\n",
       "      <td>59</td>\n",
       "      <td>23</td>\n",
       "      <td>.720</td>\n",
       "      <td>4.0</td>\n",
       "      <td>114.2</td>\n",
       "      <td>107.9</td>\n",
       "      <td>6.48</td>\n",
       "      <td>1990</td>\n",
       "      <td>Portland Trail Blazers*</td>\n",
       "    </tr>\n",
       "    <tr>\n",
       "      <th>26</th>\n",
       "      <td>54</td>\n",
       "      <td>28</td>\n",
       "      <td>.659</td>\n",
       "      <td>9.0</td>\n",
       "      <td>114.9</td>\n",
       "      <td>107.8</td>\n",
       "      <td>7.09</td>\n",
       "      <td>1990</td>\n",
       "      <td>Phoenix Suns*</td>\n",
       "    </tr>\n",
       "    <tr>\n",
       "      <th>27</th>\n",
       "      <td>41</td>\n",
       "      <td>41</td>\n",
       "      <td>.500</td>\n",
       "      <td>22.0</td>\n",
       "      <td>106.9</td>\n",
       "      <td>105.9</td>\n",
       "      <td>1.40</td>\n",
       "      <td>1990</td>\n",
       "      <td>Seattle SuperSonics</td>\n",
       "    </tr>\n",
       "    <tr>\n",
       "      <th>28</th>\n",
       "      <td>37</td>\n",
       "      <td>45</td>\n",
       "      <td>.451</td>\n",
       "      <td>26.0</td>\n",
       "      <td>116.3</td>\n",
       "      <td>119.4</td>\n",
       "      <td>-2.55</td>\n",
       "      <td>1990</td>\n",
       "      <td>Golden State Warriors</td>\n",
       "    </tr>\n",
       "    <tr>\n",
       "      <th>29</th>\n",
       "      <td>30</td>\n",
       "      <td>52</td>\n",
       "      <td>.366</td>\n",
       "      <td>33.0</td>\n",
       "      <td>103.8</td>\n",
       "      <td>107.2</td>\n",
       "      <td>-2.80</td>\n",
       "      <td>1990</td>\n",
       "      <td>Los Angeles Clippers</td>\n",
       "    </tr>\n",
       "  </tbody>\n",
       "</table>\n",
       "</div>"
      ],
      "text/plain": [
       "                    W                  L               W/L%  \\\n",
       "0   Atlantic Division  Atlantic Division  Atlantic Division   \n",
       "1                  53                 29               .646   \n",
       "2                  52                 30               .634   \n",
       "3                  45                 37               .549   \n",
       "4                  31                 51               .378   \n",
       "5                  18                 64               .220   \n",
       "6                  17                 65               .207   \n",
       "7    Central Division   Central Division   Central Division   \n",
       "8                  59                 23               .720   \n",
       "9                  55                 27               .671   \n",
       "10                 44                 38               .537   \n",
       "11                 42                 40               .512   \n",
       "12                 42                 40               .512   \n",
       "13                 41                 41               .500   \n",
       "14                 18                 64               .220   \n",
       "15   Midwest Division   Midwest Division   Midwest Division   \n",
       "16                 56                 26               .683   \n",
       "17                 55                 27               .671   \n",
       "18                 47                 35               .573   \n",
       "19                 43                 39               .524   \n",
       "20                 41                 41               .500   \n",
       "21                 22                 60               .268   \n",
       "22                 19                 63               .232   \n",
       "23   Pacific Division   Pacific Division   Pacific Division   \n",
       "24                 63                 19               .768   \n",
       "25                 59                 23               .720   \n",
       "26                 54                 28               .659   \n",
       "27                 41                 41               .500   \n",
       "28                 37                 45               .451   \n",
       "29                 30                 52               .366   \n",
       "\n",
       "                   GB               PS/G               PA/G  \\\n",
       "0   Atlantic Division  Atlantic Division  Atlantic Division   \n",
       "1                   —              110.2              105.2   \n",
       "2                 1.0              110.0              106.0   \n",
       "3                 8.0              108.3              106.9   \n",
       "4                22.0              107.7              109.9   \n",
       "5                35.0              100.6              110.3   \n",
       "6                36.0              100.1              108.0   \n",
       "7    Central Division   Central Division   Central Division   \n",
       "8                   —              104.3               98.3   \n",
       "9                 4.0              109.5              106.2   \n",
       "10               15.0              106.0              106.8   \n",
       "11               17.0              102.6              102.9   \n",
       "12               17.0              109.3              109.1   \n",
       "13               18.0              108.5              107.5   \n",
       "14               41.0              110.9              119.8   \n",
       "15   Midwest Division   Midwest Division   Midwest Division   \n",
       "16                  —              106.3              102.8   \n",
       "17                1.0              106.8              102.0   \n",
       "18                9.0              102.2              102.2   \n",
       "19               13.0              114.6              113.2   \n",
       "20               15.0              106.7              105.3   \n",
       "21               34.0               95.2               99.4   \n",
       "22               37.0              100.4              108.2   \n",
       "23   Pacific Division   Pacific Division   Pacific Division   \n",
       "24                  —              110.7              103.9   \n",
       "25                4.0              114.2              107.9   \n",
       "26                9.0              114.9              107.8   \n",
       "27               22.0              106.9              105.9   \n",
       "28               26.0              116.3              119.4   \n",
       "29               33.0              103.8              107.2   \n",
       "\n",
       "                  SRS  Year                     Team  \n",
       "0   Atlantic Division  1990        Atlantic Division  \n",
       "1                4.23  1990      Philadelphia 76ers*  \n",
       "2                3.23  1990          Boston Celtics*  \n",
       "3                0.78  1990         New York Knicks*  \n",
       "4               -2.43  1990       Washington Bullets  \n",
       "5               -9.59  1990               Miami Heat  \n",
       "6               -7.82  1990          New Jersey Nets  \n",
       "7    Central Division  1990         Central Division  \n",
       "8                5.41  1990         Detroit Pistons*  \n",
       "9                2.74  1990           Chicago Bulls*  \n",
       "10              -1.06  1990         Milwaukee Bucks*  \n",
       "11              -0.62  1990     Cleveland Cavaliers*  \n",
       "12              -0.18  1990          Indiana Pacers*  \n",
       "13               0.64  1990            Atlanta Hawks  \n",
       "14              -8.73  1990            Orlando Magic  \n",
       "15   Midwest Division  1990         Midwest Division  \n",
       "16               3.58  1990       San Antonio Spurs*  \n",
       "17               4.82  1990               Utah Jazz*  \n",
       "18               0.42  1990        Dallas Mavericks*  \n",
       "19               1.56  1990          Denver Nuggets*  \n",
       "20               1.71  1990         Houston Rockets*  \n",
       "21              -3.60  1990   Minnesota Timberwolves  \n",
       "22              -7.00  1990        Charlotte Hornets  \n",
       "23   Pacific Division  1990         Pacific Division  \n",
       "24               6.74  1990      Los Angeles Lakers*  \n",
       "25               6.48  1990  Portland Trail Blazers*  \n",
       "26               7.09  1990            Phoenix Suns*  \n",
       "27               1.40  1990      Seattle SuperSonics  \n",
       "28              -2.55  1990    Golden State Warriors  \n",
       "29              -2.80  1990     Los Angeles Clippers  "
      ]
     },
     "execution_count": 47,
     "metadata": {},
     "output_type": "execute_result"
    }
   ],
   "source": [
    "team_stats_df.head(30)"
   ]
  },
  {
   "cell_type": "code",
   "execution_count": null,
   "id": "bbc6fd08",
   "metadata": {},
   "outputs": [],
   "source": [
    "\n",
    "team_stats_df = team_stats_df[~team_stats_df[\"Team\"].str.contains(\"Division\", case=False, na=False)]\n"
   ]
  },
  {
   "cell_type": "code",
   "execution_count": 54,
   "id": "655e4409",
   "metadata": {},
   "outputs": [
    {
     "data": {
      "text/html": [
       "<div>\n",
       "<style scoped>\n",
       "    .dataframe tbody tr th:only-of-type {\n",
       "        vertical-align: middle;\n",
       "    }\n",
       "\n",
       "    .dataframe tbody tr th {\n",
       "        vertical-align: top;\n",
       "    }\n",
       "\n",
       "    .dataframe thead th {\n",
       "        text-align: right;\n",
       "    }\n",
       "</style>\n",
       "<table border=\"1\" class=\"dataframe\">\n",
       "  <thead>\n",
       "    <tr style=\"text-align: right;\">\n",
       "      <th></th>\n",
       "      <th>W</th>\n",
       "      <th>L</th>\n",
       "      <th>W/L%</th>\n",
       "      <th>GB</th>\n",
       "      <th>PS/G</th>\n",
       "      <th>PA/G</th>\n",
       "      <th>SRS</th>\n",
       "      <th>Year</th>\n",
       "      <th>Team</th>\n",
       "    </tr>\n",
       "  </thead>\n",
       "  <tbody>\n",
       "    <tr>\n",
       "      <th>1</th>\n",
       "      <td>53</td>\n",
       "      <td>29</td>\n",
       "      <td>.646</td>\n",
       "      <td>—</td>\n",
       "      <td>110.2</td>\n",
       "      <td>105.2</td>\n",
       "      <td>4.23</td>\n",
       "      <td>1990</td>\n",
       "      <td>Philadelphia 76ers</td>\n",
       "    </tr>\n",
       "    <tr>\n",
       "      <th>2</th>\n",
       "      <td>52</td>\n",
       "      <td>30</td>\n",
       "      <td>.634</td>\n",
       "      <td>1.0</td>\n",
       "      <td>110.0</td>\n",
       "      <td>106.0</td>\n",
       "      <td>3.23</td>\n",
       "      <td>1990</td>\n",
       "      <td>Boston Celtics</td>\n",
       "    </tr>\n",
       "    <tr>\n",
       "      <th>3</th>\n",
       "      <td>45</td>\n",
       "      <td>37</td>\n",
       "      <td>.549</td>\n",
       "      <td>8.0</td>\n",
       "      <td>108.3</td>\n",
       "      <td>106.9</td>\n",
       "      <td>0.78</td>\n",
       "      <td>1990</td>\n",
       "      <td>New York Knicks</td>\n",
       "    </tr>\n",
       "    <tr>\n",
       "      <th>4</th>\n",
       "      <td>31</td>\n",
       "      <td>51</td>\n",
       "      <td>.378</td>\n",
       "      <td>22.0</td>\n",
       "      <td>107.7</td>\n",
       "      <td>109.9</td>\n",
       "      <td>-2.43</td>\n",
       "      <td>1990</td>\n",
       "      <td>Washington Bullets</td>\n",
       "    </tr>\n",
       "    <tr>\n",
       "      <th>5</th>\n",
       "      <td>18</td>\n",
       "      <td>64</td>\n",
       "      <td>.220</td>\n",
       "      <td>35.0</td>\n",
       "      <td>100.6</td>\n",
       "      <td>110.3</td>\n",
       "      <td>-9.59</td>\n",
       "      <td>1990</td>\n",
       "      <td>Miami Heat</td>\n",
       "    </tr>\n",
       "    <tr>\n",
       "      <th>6</th>\n",
       "      <td>17</td>\n",
       "      <td>65</td>\n",
       "      <td>.207</td>\n",
       "      <td>36.0</td>\n",
       "      <td>100.1</td>\n",
       "      <td>108.0</td>\n",
       "      <td>-7.82</td>\n",
       "      <td>1990</td>\n",
       "      <td>New Jersey Nets</td>\n",
       "    </tr>\n",
       "    <tr>\n",
       "      <th>8</th>\n",
       "      <td>59</td>\n",
       "      <td>23</td>\n",
       "      <td>.720</td>\n",
       "      <td>—</td>\n",
       "      <td>104.3</td>\n",
       "      <td>98.3</td>\n",
       "      <td>5.41</td>\n",
       "      <td>1990</td>\n",
       "      <td>Detroit Pistons</td>\n",
       "    </tr>\n",
       "    <tr>\n",
       "      <th>9</th>\n",
       "      <td>55</td>\n",
       "      <td>27</td>\n",
       "      <td>.671</td>\n",
       "      <td>4.0</td>\n",
       "      <td>109.5</td>\n",
       "      <td>106.2</td>\n",
       "      <td>2.74</td>\n",
       "      <td>1990</td>\n",
       "      <td>Chicago Bulls</td>\n",
       "    </tr>\n",
       "    <tr>\n",
       "      <th>10</th>\n",
       "      <td>44</td>\n",
       "      <td>38</td>\n",
       "      <td>.537</td>\n",
       "      <td>15.0</td>\n",
       "      <td>106.0</td>\n",
       "      <td>106.8</td>\n",
       "      <td>-1.06</td>\n",
       "      <td>1990</td>\n",
       "      <td>Milwaukee Bucks</td>\n",
       "    </tr>\n",
       "    <tr>\n",
       "      <th>11</th>\n",
       "      <td>42</td>\n",
       "      <td>40</td>\n",
       "      <td>.512</td>\n",
       "      <td>17.0</td>\n",
       "      <td>102.6</td>\n",
       "      <td>102.9</td>\n",
       "      <td>-0.62</td>\n",
       "      <td>1990</td>\n",
       "      <td>Cleveland Cavaliers</td>\n",
       "    </tr>\n",
       "    <tr>\n",
       "      <th>12</th>\n",
       "      <td>42</td>\n",
       "      <td>40</td>\n",
       "      <td>.512</td>\n",
       "      <td>17.0</td>\n",
       "      <td>109.3</td>\n",
       "      <td>109.1</td>\n",
       "      <td>-0.18</td>\n",
       "      <td>1990</td>\n",
       "      <td>Indiana Pacers</td>\n",
       "    </tr>\n",
       "    <tr>\n",
       "      <th>13</th>\n",
       "      <td>41</td>\n",
       "      <td>41</td>\n",
       "      <td>.500</td>\n",
       "      <td>18.0</td>\n",
       "      <td>108.5</td>\n",
       "      <td>107.5</td>\n",
       "      <td>0.64</td>\n",
       "      <td>1990</td>\n",
       "      <td>Atlanta Hawks</td>\n",
       "    </tr>\n",
       "  </tbody>\n",
       "</table>\n",
       "</div>"
      ],
      "text/plain": [
       "     W   L  W/L%    GB   PS/G   PA/G    SRS  Year                 Team\n",
       "1   53  29  .646     —  110.2  105.2   4.23  1990   Philadelphia 76ers\n",
       "2   52  30  .634   1.0  110.0  106.0   3.23  1990       Boston Celtics\n",
       "3   45  37  .549   8.0  108.3  106.9   0.78  1990      New York Knicks\n",
       "4   31  51  .378  22.0  107.7  109.9  -2.43  1990   Washington Bullets\n",
       "5   18  64  .220  35.0  100.6  110.3  -9.59  1990           Miami Heat\n",
       "6   17  65  .207  36.0  100.1  108.0  -7.82  1990      New Jersey Nets\n",
       "8   59  23  .720     —  104.3   98.3   5.41  1990      Detroit Pistons\n",
       "9   55  27  .671   4.0  109.5  106.2   2.74  1990        Chicago Bulls\n",
       "10  44  38  .537  15.0  106.0  106.8  -1.06  1990      Milwaukee Bucks\n",
       "11  42  40  .512  17.0  102.6  102.9  -0.62  1990  Cleveland Cavaliers\n",
       "12  42  40  .512  17.0  109.3  109.1  -0.18  1990       Indiana Pacers\n",
       "13  41  41  .500  18.0  108.5  107.5   0.64  1990        Atlanta Hawks"
      ]
     },
     "execution_count": 54,
     "metadata": {},
     "output_type": "execute_result"
    }
   ],
   "source": [
    "team_stats_df.head(12)\n",
    "team_stats_df['Team']=team_stats_df['Team'].str.replace('*', '', regex=False)\n",
    "team_stats_df.head(12)"
   ]
  },
  {
   "cell_type": "code",
   "execution_count": null,
   "id": "2d7cc037",
   "metadata": {},
   "outputs": [],
   "source": [
    "team_stats_df.to_csv('data/team_stats.csv', index=False)"
   ]
  }
 ],
 "metadata": {
  "kernelspec": {
   "display_name": "Python (mvp_project)",
   "language": "python",
   "name": "mvp_project"
  },
  "language_info": {
   "codemirror_mode": {
    "name": "ipython",
    "version": 3
   },
   "file_extension": ".py",
   "mimetype": "text/x-python",
   "name": "python",
   "nbconvert_exporter": "python",
   "pygments_lexer": "ipython3",
   "version": "3.11.9"
  }
 },
 "nbformat": 4,
 "nbformat_minor": 5
}
